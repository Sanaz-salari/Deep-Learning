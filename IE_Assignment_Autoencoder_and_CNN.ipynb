{
  "nbformat": 4,
  "nbformat_minor": 0,
  "metadata": {
    "colab": {
      "name": "IE Assignment_Autoencoder and CNN.ipynb",
      "provenance": [],
      "authorship_tag": "ABX9TyNnqPoUGZQt05q7NL6qxbED"
    },
    "kernelspec": {
      "name": "python3",
      "display_name": "Python 3"
    },
    "language_info": {
      "name": "python"
    }
  },
  "cells": [
    {
      "cell_type": "markdown",
      "source": [
        "# **Simple Autoencoder**"
      ],
      "metadata": {
        "id": "aaObky3PWA9O"
      }
    },
    {
      "cell_type": "code",
      "execution_count": null,
      "metadata": {
        "id": "I1QWEIqZ4jwb"
      },
      "outputs": [],
      "source": [
        "# import all the dependencies\n",
        "from keras.layers import Dense,Conv2D,MaxPooling2D,UpSampling2D\n",
        "from keras import Input, Model\n",
        "from keras.datasets import mnist\n",
        "import numpy as np\n",
        "import matplotlib.pyplot as plt"
      ]
    },
    {
      "cell_type": "code",
      "source": [
        "encoding_dim = 15 \n",
        "input_img = Input(shape=(784,))\n",
        "# encoded representation of input\n",
        "encoded = Dense(encoding_dim, activation='relu')(input_img)\n",
        "# decoded representation of code \n",
        "decoded = Dense(784, activation='sigmoid')(encoded)\n",
        "# Model which take input image and shows decoded images\n",
        "autoencoder = Model(input_img, decoded)"
      ],
      "metadata": {
        "id": "AA3uLOWtWItr"
      },
      "execution_count": null,
      "outputs": []
    },
    {
      "cell_type": "code",
      "source": [
        "# This model shows encoded images\n",
        "encoder = Model(input_img, encoded)\n",
        "# Creating a decoder model\n",
        "encoded_input = Input(shape=(encoding_dim,))\n",
        "# last layer of the autoencoder model\n",
        "decoder_layer = autoencoder.layers[-1]\n",
        "# decoder model\n",
        "decoder = Model(encoded_input, decoder_layer(encoded_input))"
      ],
      "metadata": {
        "id": "lgdLO4UHmm-i"
      },
      "execution_count": null,
      "outputs": []
    },
    {
      "cell_type": "code",
      "source": [
        "autoencoder.compile(optimizer='adam', loss='binary_crossentropy')"
      ],
      "metadata": {
        "id": "kjZcCF5VmyWj"
      },
      "execution_count": null,
      "outputs": []
    },
    {
      "cell_type": "code",
      "source": [
        "(x_train, y_train), (x_test, y_test) = mnist.load_data()\n",
        "x_train = x_train.astype('float32') / 255.\n",
        "x_test = x_test.astype('float32') / 255.\n",
        "x_train = x_train.reshape((len(x_train), np.prod(x_train.shape[1:])))\n",
        "x_test = x_test.reshape((len(x_test), np.prod(x_test.shape[1:])))\n",
        "print(x_train.shape)\n",
        "print(x_test.shape)"
      ],
      "metadata": {
        "colab": {
          "base_uri": "https://localhost:8080/"
        },
        "id": "idu-BG74nIJ8",
        "outputId": "4d764ef0-ea14-4324-96aa-6ef438baddf3"
      },
      "execution_count": null,
      "outputs": [
        {
          "output_type": "stream",
          "name": "stdout",
          "text": [
            "Downloading data from https://storage.googleapis.com/tensorflow/tf-keras-datasets/mnist.npz\n",
            "11493376/11490434 [==============================] - 0s 0us/step\n",
            "11501568/11490434 [==============================] - 0s 0us/step\n",
            "(60000, 784)\n",
            "(10000, 784)\n"
          ]
        }
      ]
    },
    {
      "cell_type": "code",
      "source": [
        "autoencoder.fit(x_train, x_train,\n",
        "                epochs=15,\n",
        "                batch_size=256,\n",
        "                validation_data=(x_test, x_test))"
      ],
      "metadata": {
        "colab": {
          "base_uri": "https://localhost:8080/"
        },
        "id": "Rctp3kPkniF5",
        "outputId": "1c26bbb0-0fc5-49b3-e521-44372b034f86"
      },
      "execution_count": null,
      "outputs": [
        {
          "output_type": "stream",
          "name": "stdout",
          "text": [
            "Epoch 1/15\n",
            "235/235 [==============================] - 2s 8ms/step - loss: 0.3122 - val_loss: 0.2206\n",
            "Epoch 2/15\n",
            "235/235 [==============================] - 2s 7ms/step - loss: 0.2002 - val_loss: 0.1849\n",
            "Epoch 3/15\n",
            "235/235 [==============================] - 2s 7ms/step - loss: 0.1765 - val_loss: 0.1660\n",
            "Epoch 4/15\n",
            "235/235 [==============================] - 2s 7ms/step - loss: 0.1617 - val_loss: 0.1555\n",
            "Epoch 5/15\n",
            "235/235 [==============================] - 2s 7ms/step - loss: 0.1535 - val_loss: 0.1489\n",
            "Epoch 6/15\n",
            "235/235 [==============================] - 2s 7ms/step - loss: 0.1481 - val_loss: 0.1449\n",
            "Epoch 7/15\n",
            "235/235 [==============================] - 2s 7ms/step - loss: 0.1448 - val_loss: 0.1426\n",
            "Epoch 8/15\n",
            "235/235 [==============================] - 2s 7ms/step - loss: 0.1426 - val_loss: 0.1405\n",
            "Epoch 9/15\n",
            "235/235 [==============================] - 2s 7ms/step - loss: 0.1408 - val_loss: 0.1389\n",
            "Epoch 10/15\n",
            "235/235 [==============================] - 2s 7ms/step - loss: 0.1392 - val_loss: 0.1374\n",
            "Epoch 11/15\n",
            "235/235 [==============================] - 2s 7ms/step - loss: 0.1379 - val_loss: 0.1361\n",
            "Epoch 12/15\n",
            "235/235 [==============================] - 2s 7ms/step - loss: 0.1368 - val_loss: 0.1351\n",
            "Epoch 13/15\n",
            "235/235 [==============================] - 2s 7ms/step - loss: 0.1359 - val_loss: 0.1342\n",
            "Epoch 14/15\n",
            "235/235 [==============================] - 2s 7ms/step - loss: 0.1352 - val_loss: 0.1335\n",
            "Epoch 15/15\n",
            "235/235 [==============================] - 2s 7ms/step - loss: 0.1346 - val_loss: 0.1330\n"
          ]
        },
        {
          "output_type": "execute_result",
          "data": {
            "text/plain": [
              "<keras.callbacks.History at 0x7f0b4da25850>"
            ]
          },
          "metadata": {},
          "execution_count": 7
        }
      ]
    },
    {
      "cell_type": "code",
      "source": [
        "encoded_img = encoder.predict(x_test)\n",
        "decoded_img = decoder.predict(encoded_img)\n",
        "plt.figure(figsize=(20, 4))\n",
        "for i in range(5):\n",
        "    # Display original\n",
        "    ax = plt.subplot(2, 5, i + 1)\n",
        "    plt.imshow(x_test[i].reshape(28, 28))\n",
        "    plt.gray()\n",
        "    ax.get_xaxis().set_visible(False)\n",
        "    ax.get_yaxis().set_visible(False)\n",
        "    # Display reconstruction\n",
        "    ax = plt.subplot(2, 5, i + 1 + 5)\n",
        "    plt.imshow(decoded_img[i].reshape(28, 28))\n",
        "    plt.gray()\n",
        "    ax.get_xaxis().set_visible(False)\n",
        "    ax.get_yaxis().set_visible(False)\n",
        "plt.show()"
      ],
      "metadata": {
        "colab": {
          "base_uri": "https://localhost:8080/",
          "height": 252
        },
        "id": "K6u5VRe5oJEP",
        "outputId": "63563461-5405-4180-f4a7-1d6dd8591e8d"
      },
      "execution_count": null,
      "outputs": [
        {
          "output_type": "display_data",
          "data": {
            "text/plain": [
              "<Figure size 1440x288 with 10 Axes>"
            ],
            "image/png": "[encoded data removed]"
          },
          "metadata": {
            "needs_background": "light"
          }
        }
      ]
    },
    {
      "cell_type": "code",
      "source": [
        "from keras.models import Sequential\n",
        "model = Sequential()\n",
        "# encoder network\n",
        "model.add(Conv2D(30, 3, activation= 'relu', padding='same', input_shape = (28,28,1)))\n",
        "model.add(MaxPooling2D(2, padding= 'same'))\n",
        "model.add(Conv2D(15, 3, activation= 'relu', padding='same'))\n",
        "model.add(MaxPooling2D(2, padding= 'same'))\n",
        "#decoder network\n",
        "model.add(Conv2D(15, 3, activation= 'relu', padding='same'))\n",
        "model.add(UpSampling2D(2))\n",
        "model.add(Conv2D(30, 3, activation= 'relu', padding='same'))\n",
        "model.add(UpSampling2D(2))\n",
        "model.add(Conv2D(1,3,activation='sigmoid', padding= 'same')) # output layer\n",
        "model.compile(optimizer= 'adam', loss = 'binary_crossentropy')\n",
        "model.summary()"
      ],
      "metadata": {
        "colab": {
          "base_uri": "https://localhost:8080/"
        },
        "id": "T6-znSlHpN2a",
        "outputId": "46d5e334-9807-42c9-a33c-300718912f56"
      },
      "execution_count": null,
      "outputs": [
        {
          "output_type": "stream",
          "name": "stdout",
          "text": [
            "Model: \"sequential\"\n",
            "_________________________________________________________________\n",
            " Layer (type)                Output Shape              Param #   \n",
            "=================================================================\n",
            " conv2d (Conv2D)             (None, 28, 28, 30)        300       \n",
            "                                                                 \n",
            " max_pooling2d (MaxPooling2D  (None, 14, 14, 30)       0         \n",
            " )                                                               \n",
            "                                                                 \n",
            " conv2d_1 (Conv2D)           (None, 14, 14, 15)        4065      \n",
            "                                                                 \n",
            " max_pooling2d_1 (MaxPooling  (None, 7, 7, 15)         0         \n",
            " 2D)                                                             \n",
            "                                                                 \n",
            " conv2d_2 (Conv2D)           (None, 7, 7, 15)          2040      \n",
            "                                                                 \n",
            " up_sampling2d (UpSampling2D  (None, 14, 14, 15)       0         \n",
            " )                                                               \n",
            "                                                                 \n",
            " conv2d_3 (Conv2D)           (None, 14, 14, 30)        4080      \n",
            "                                                                 \n",
            " up_sampling2d_1 (UpSampling  (None, 28, 28, 30)       0         \n",
            " 2D)                                                             \n",
            "                                                                 \n",
            " conv2d_4 (Conv2D)           (None, 28, 28, 1)         271       \n",
            "                                                                 \n",
            "=================================================================\n",
            "Total params: 10,756\n",
            "Trainable params: 10,756\n",
            "Non-trainable params: 0\n",
            "_________________________________________________________________\n"
          ]
        }
      ]
    },
    {
      "cell_type": "code",
      "source": [
        "(x_train, _), (x_test, _) = mnist.load_data()\n",
        "x_train = x_train.astype('float32') / 255.\n",
        "x_test = x_test.astype('float32') / 255.\n",
        "x_train = np.reshape(x_train, (len(x_train), 28, 28, 1))\n",
        "x_test = np.reshape(x_test, (len(x_test), 28, 28, 1))\n",
        "model.fit(x_train, x_train,\n",
        "                epochs=15,\n",
        "                batch_size=128,\n",
        "                validation_data=(x_test, x_test))"
      ],
      "metadata": {
        "colab": {
          "base_uri": "https://localhost:8080/"
        },
        "id": "NcKuGelgqCya",
        "outputId": "c1bc09b2-bcd9-412e-d847-181f575eef69"
      },
      "execution_count": null,
      "outputs": [
        {
          "output_type": "stream",
          "name": "stdout",
          "text": [
            "Epoch 1/15\n",
            "469/469 [==============================] - 91s 193ms/step - loss: 0.1339 - val_loss: 0.0819\n",
            "Epoch 2/15\n",
            "469/469 [==============================] - 87s 185ms/step - loss: 0.0793 - val_loss: 0.0760\n",
            "Epoch 3/15\n",
            "469/469 [==============================] - 86s 184ms/step - loss: 0.0753 - val_loss: 0.0734\n",
            "Epoch 4/15\n",
            "469/469 [==============================] - 86s 183ms/step - loss: 0.0733 - val_loss: 0.0719\n",
            "Epoch 5/15\n",
            "469/469 [==============================] - 87s 185ms/step - loss: 0.0721 - val_loss: 0.0709\n",
            "Epoch 6/15\n",
            "469/469 [==============================] - 87s 186ms/step - loss: 0.0711 - val_loss: 0.0701\n",
            "Epoch 7/15\n",
            "469/469 [==============================] - 87s 185ms/step - loss: 0.0704 - val_loss: 0.0695\n",
            "Epoch 8/15\n",
            "469/469 [==============================] - 87s 185ms/step - loss: 0.0699 - val_loss: 0.0691\n",
            "Epoch 9/15\n",
            "469/469 [==============================] - 87s 185ms/step - loss: 0.0695 - val_loss: 0.0687\n",
            "Epoch 10/15\n",
            "469/469 [==============================] - 87s 185ms/step - loss: 0.0691 - val_loss: 0.0684\n",
            "Epoch 11/15\n",
            "469/469 [==============================] - 88s 188ms/step - loss: 0.0688 - val_loss: 0.0683\n",
            "Epoch 12/15\n",
            "469/469 [==============================] - 88s 187ms/step - loss: 0.0685 - val_loss: 0.0679\n",
            "Epoch 13/15\n",
            "469/469 [==============================] - 87s 185ms/step - loss: 0.0683 - val_loss: 0.0677\n",
            "Epoch 14/15\n",
            "469/469 [==============================] - 87s 185ms/step - loss: 0.0681 - val_loss: 0.0675\n",
            "Epoch 15/15\n",
            "469/469 [==============================] - 87s 186ms/step - loss: 0.0679 - val_loss: 0.0673\n"
          ]
        },
        {
          "output_type": "execute_result",
          "data": {
            "text/plain": [
              "<keras.callbacks.History at 0x7f0b48407310>"
            ]
          },
          "metadata": {},
          "execution_count": 11
        }
      ]
    },
    {
      "cell_type": "code",
      "source": [
        "pred = model.predict(x_test)\n",
        "plt.figure(figsize=(20, 4))\n",
        "for i in range(5):\n",
        "    # Display original\n",
        "    ax = plt.subplot(2, 5, i + 1)\n",
        "    plt.imshow(x_test[i].reshape(28, 28))\n",
        "    plt.gray()\n",
        "    ax.get_xaxis().set_visible(False)\n",
        "    ax.get_yaxis().set_visible(False)\n",
        "    # Display reconstruction\n",
        "    ax = plt.subplot(2, 5, i + 1 + 5)\n",
        "    plt.imshow(pred[i].reshape(28, 28))\n",
        "    plt.gray()\n",
        "    ax.get_xaxis().set_visible(False)\n",
        "    ax.get_yaxis().set_visible(False)\n",
        "plt.show()"
      ],
      "metadata": {
        "colab": {
          "base_uri": "https://localhost:8080/",
          "height": 252
        },
        "id": "m6-RwCABxgjx",
        "outputId": "d2ae2dab-c82b-4983-873f-44e9a0f6f5ef"
      },
      "execution_count": null,
      "outputs": [
        {
          "output_type": "display_data",
          "data": {
            "text/plain": [
              "<Figure size 1440x288 with 10 Axes>"
            ],
            "image/png": "[encoded data removed]"
          },
          "metadata": {
            "needs_background": "light"
          }
        }
      ]
    },
    {
      "cell_type": "code",
      "source": [
        "noise_factor = 0.7\n",
        "x_train_noisy = x_train + noise_factor * np.random.normal(loc=0.0, scale=1.0, size=x_train.shape) \n",
        "x_test_noisy = x_test + noise_factor * np.random.normal(loc=0.0, scale=1.0, size=x_test.shape) \n",
        "x_train_noisy = np.clip(x_train_noisy, 0., 1.)\n",
        "x_test_noisy = np.clip(x_test_noisy, 0., 1.)\n",
        "#Here is how the noisy images look right now.\n",
        "plt.figure(figsize=(20, 2))\n",
        "for i in range(1, 5 + 1):\n",
        "    ax = plt.subplot(1, 5, i)\n",
        "    plt.imshow(x_test_noisy[i].reshape(28, 28))\n",
        "    plt.gray()\n",
        "    ax.get_xaxis().set_visible(False)\n",
        "    ax.get_yaxis().set_visible(False)\n",
        "plt.show()"
      ],
      "metadata": {
        "colab": {
          "base_uri": "https://localhost:8080/",
          "height": 143
        },
        "id": "9AO3sq7Ryrdq",
        "outputId": "f74b8609-9e05-4da6-c1a6-73062e601404"
      },
      "execution_count": null,
      "outputs": [
        {
          "output_type": "display_data",
          "data": {
            "text/plain": [
              "<Figure size 1440x144 with 5 Axes>"
            ],
            "image/png": "[encoded data removed]"
          },
          "metadata": {
            "needs_background": "light"
          }
        }
      ]
    },
    {
      "cell_type": "code",
      "source": [
        "model = Sequential()\n",
        "# encoder network\n",
        "model.add(Conv2D(35, 3, activation= 'relu', padding='same', input_shape = (28,28,1)))\n",
        "model.add(MaxPooling2D(2, padding= 'same'))\n",
        "model.add(Conv2D(25, 3, activation= 'relu', padding='same'))\n",
        "model.add(MaxPooling2D(2, padding= 'same'))\n",
        "#decoder network\n",
        "model.add(Conv2D(25, 3, activation= 'relu', padding='same'))\n",
        "model.add(UpSampling2D(2))\n",
        "model.add(Conv2D(35, 3, activation= 'relu', padding='same'))\n",
        "model.add(UpSampling2D(2))\n",
        "model.add(Conv2D(1,3,activation='sigmoid', padding= 'same')) # output layer\n",
        "model.compile(optimizer= 'adam', loss = 'binary_crossentropy')\n",
        "model.fit(x_train_noisy, x_train,\n",
        "                epochs=15,\n",
        "                batch_size=128,\n",
        "                validation_data=(x_test_noisy, x_test))"
      ],
      "metadata": {
        "colab": {
          "base_uri": "https://localhost:8080/"
        },
        "id": "TQfdRvDKzjCi",
        "outputId": "5513078b-5362-466a-e691-5b0b1c2e7817"
      },
      "execution_count": null,
      "outputs": [
        {
          "output_type": "stream",
          "name": "stdout",
          "text": [
            "Epoch 1/15\n",
            "469/469 [==============================] - 107s 227ms/step - loss: 0.1989 - val_loss: 0.1477\n",
            "Epoch 2/15\n",
            "469/469 [==============================] - 107s 228ms/step - loss: 0.1440 - val_loss: 0.1390\n",
            "Epoch 3/15\n",
            "469/469 [==============================] - 107s 228ms/step - loss: 0.1378 - val_loss: 0.1341\n",
            "Epoch 4/15\n",
            "469/469 [==============================] - 107s 228ms/step - loss: 0.1338 - val_loss: 0.1311\n",
            "Epoch 5/15\n",
            "469/469 [==============================] - 107s 228ms/step - loss: 0.1310 - val_loss: 0.1290\n",
            "Epoch 6/15\n",
            "469/469 [==============================] - 107s 228ms/step - loss: 0.1291 - val_loss: 0.1272\n",
            "Epoch 7/15\n",
            "469/469 [==============================] - 107s 228ms/step - loss: 0.1278 - val_loss: 0.1265\n",
            "Epoch 8/15\n",
            "469/469 [==============================] - 107s 227ms/step - loss: 0.1266 - val_loss: 0.1254\n",
            "Epoch 9/15\n",
            "469/469 [==============================] - 107s 228ms/step - loss: 0.1258 - val_loss: 0.1250\n",
            "Epoch 10/15\n",
            "469/469 [==============================] - 107s 228ms/step - loss: 0.1250 - val_loss: 0.1239\n",
            "Epoch 11/15\n",
            "469/469 [==============================] - 107s 228ms/step - loss: 0.1243 - val_loss: 0.1235\n",
            "Epoch 12/15\n",
            "469/469 [==============================] - 107s 228ms/step - loss: 0.1238 - val_loss: 0.1229\n",
            "Epoch 13/15\n",
            "469/469 [==============================] - 109s 232ms/step - loss: 0.1233 - val_loss: 0.1223\n",
            "Epoch 14/15\n",
            "469/469 [==============================] - 107s 227ms/step - loss: 0.1229 - val_loss: 0.1222\n",
            "Epoch 15/15\n",
            "469/469 [==============================] - 107s 227ms/step - loss: 0.1225 - val_loss: 0.1223\n"
          ]
        },
        {
          "output_type": "execute_result",
          "data": {
            "text/plain": [
              "<keras.callbacks.History at 0x7f0b455d4890>"
            ]
          },
          "metadata": {},
          "execution_count": 16
        }
      ]
    },
    {
      "cell_type": "code",
      "source": [
        "pred = model.predict(x_test_noisy)\n",
        "plt.figure(figsize=(20, 4))\n",
        "for i in range(5):\n",
        "    # Display original\n",
        "    ax = plt.subplot(2, 5, i + 1)\n",
        "    plt.imshow(x_test_noisy[i].reshape(28, 28))\n",
        "    plt.gray()\n",
        "    ax.get_xaxis().set_visible(False)\n",
        "    ax.get_yaxis().set_visible(False)\n",
        "    # Display reconstruction\n",
        "    ax = plt.subplot(2, 5, i + 1 + 5)\n",
        "    plt.imshow(pred[i].reshape(28, 28))\n",
        "    plt.gray()\n",
        "    ax.get_xaxis().set_visible(False)\n",
        "    ax.get_yaxis().set_visible(False)\n",
        "plt.show()"
      ],
      "metadata": {
        "colab": {
          "base_uri": "https://localhost:8080/",
          "height": 252
        },
        "id": "JJ2NoYCW4o1L",
        "outputId": "8ba14741-71a5-4c12-fb3b-826788aa0cbf"
      },
      "execution_count": null,
      "outputs": [
        {
          "output_type": "display_data",
          "data": {
            "text/plain": [
              "<Figure size 1440x288 with 10 Axes>"
            ],
            "image/png": "[encoded data removed]"
          },
          "metadata": {
            "needs_background": "light"
          }
        }
      ]
    }
  ]
}