{
  "nbformat": 4,
  "nbformat_minor": 0,
  "metadata": {
    "colab": {
      "name": "Shahram_Pneumonia_Detection_ChestXray_CNN.ipynb",
      "provenance": [],
      "collapsed_sections": []
    },
    "kernelspec": {
      "name": "python3",
      "display_name": "Python 3"
    },
    "language_info": {
      "name": "python"
    }
  },
  "cells": [
    {
      "cell_type": "markdown",
      "source": [
        "**Install necessary packages**"
      ],
      "metadata": {
        "id": "Xbe2K-cISJrm"
      }
    },
    {
      "cell_type": "code",
      "source": [
        "! pip install visualkeras"
      ],
      "metadata": {
        "id": "7-WfG_0NSRZk",
        "colab": {
          "base_uri": "https://localhost:8080/"
        },
        "outputId": "4e2df184-2e2f-43ca-cc25-c923aca8041b"
      },
      "execution_count": null,
      "outputs": [
        {
          "output_type": "stream",
          "name": "stdout",
          "text": [
            "Requirement already satisfied: visualkeras in /usr/local/lib/python3.7/dist-packages (0.0.2)\n",
            "Requirement already satisfied: pillow>=6.2.0 in /usr/local/lib/python3.7/dist-packages (from visualkeras) (7.1.2)\n",
            "Requirement already satisfied: numpy>=1.18.1 in /usr/local/lib/python3.7/dist-packages (from visualkeras) (1.21.6)\n",
            "Requirement already satisfied: aggdraw>=1.3.11 in /usr/local/lib/python3.7/dist-packages (from visualkeras) (1.3.14)\n"
          ]
        }
      ]
    },
    {
      "cell_type": "markdown",
      "source": [
        "**Import all the necessary libraries**"
      ],
      "metadata": {
        "id": "88iW5XKkw7bO"
      }
    },
    {
      "cell_type": "code",
      "execution_count": null,
      "metadata": {
        "id": "HhZmlyWWn14U"
      },
      "outputs": [],
      "source": [
        "import numpy as np\n",
        "import pandas as pd\n",
        "import matplotlib.pyplot as plt\n",
        "import seaborn as sns\n",
        "import keras\n",
        "from keras.models import Sequential, load_model\n",
        "from keras.layers import Dense, Conv2D , MaxPool2D , Flatten , Dropout , BatchNormalization\n",
        "from keras.preprocessing.image import ImageDataGenerator\n",
        "from sklearn.model_selection import train_test_split\n",
        "from sklearn.metrics import classification_report,confusion_matrix\n",
        "from keras.callbacks import ReduceLROnPlateau\n",
        "import cv2\n",
        "import os\n",
        "import visualkeras\n",
        "from sklearn.metrics import precision_score, recall_score, f1_score"
      ]
    },
    {
      "cell_type": "markdown",
      "source": [
        "**Configurations**"
      ],
      "metadata": {
        "id": "rtpHMf-ixIg1"
      }
    },
    {
      "cell_type": "code",
      "source": [
        "# provide the path to the image data\n",
        "GOOGLE_DRIVE_PATH = \"/content/drive/MyDrive/Colab Notebooks\"\n",
        "INPUT_DATA_PATH = os.path.join(GOOGLE_DRIVE_PATH, 'chest_xray')\n",
        "\n",
        "# image configurations\n",
        "LABELS = ['NORMAL', 'PNEUMONIA']\n",
        "IMAGE_SIZE = 128\n",
        "IMAGE_CHANNEL = 1\n",
        "\n",
        "# model configuration\n",
        "MODEL_NAME = 'ChestXRay_CNN_Model'\n",
        "EPOCH = 10\n",
        "VERBOSE_MODE = True"
      ],
      "metadata": {
        "id": "OC1VeW0OT0zA"
      },
      "execution_count": null,
      "outputs": []
    },
    {
      "cell_type": "markdown",
      "source": [
        "**Function: Read images from files into arrays**"
      ],
      "metadata": {
        "id": "gUaZiEXaxeV2"
      }
    },
    {
      "cell_type": "code",
      "source": [
        "def ReadImagesIntoArrays(image_dir):\n",
        "    data = [] \n",
        "    for label in LABELS: \n",
        "        path = os.path.join(image_dir, label)\n",
        "        image_label = LABELS.index(label)\n",
        "        for imagefile in os.listdir(path):\n",
        "            try:\n",
        "                image = cv2.imread(os.path.join(path, imagefile), cv2.IMREAD_GRAYSCALE)\n",
        "                resized_image = cv2.resize(image, (IMAGE_SIZE, IMAGE_SIZE))\n",
        "                data.append([resized_image, image_label])\n",
        "            except Exception as e:\n",
        "                print(e)\n",
        "    return np.array(data)"
      ],
      "metadata": {
        "id": "XNfLhZFZpR6C"
      },
      "execution_count": null,
      "outputs": []
    },
    {
      "cell_type": "markdown",
      "source": [
        "**Read the image data**"
      ],
      "metadata": {
        "id": "ad6aW8fVnvKF"
      }
    },
    {
      "cell_type": "code",
      "source": [
        "TrainingSet = ReadImagesIntoArrays(os.path.join(INPUT_DATA_PATH, 'train'))\n",
        "ValidationSet = ReadImagesIntoArrays(os.path.join(INPUT_DATA_PATH, 'val'))\n",
        "TestSet = ReadImagesIntoArrays(os.path.join(INPUT_DATA_PATH, 'test'))"
      ],
      "metadata": {
        "colab": {
          "base_uri": "https://localhost:8080/"
        },
        "id": "Nb7X_4-TpYsa",
        "outputId": "9ac61a8b-952a-4e88-e1c7-6e592abaffd5"
      },
      "execution_count": null,
      "outputs": [
        {
          "output_type": "stream",
          "name": "stderr",
          "text": [
            "/usr/local/lib/python3.7/dist-packages/ipykernel_launcher.py:13: VisibleDeprecationWarning: Creating an ndarray from ragged nested sequences (which is a list-or-tuple of lists-or-tuples-or ndarrays with different lengths or shapes) is deprecated. If you meant to do this, you must specify 'dtype=object' when creating the ndarray.\n",
            "  del sys.path[0]\n"
          ]
        }
      ]
    },
    {
      "cell_type": "markdown",
      "source": [
        "**Analyze the training and validation data**"
      ],
      "metadata": {
        "id": "q4B7AecgnqZ9"
      }
    },
    {
      "cell_type": "code",
      "source": [
        "trainingset_normal_counts = TrainingSet[:, -1].shape[0] - np.count_nonzero(TrainingSet[:, -1])\n",
        "trainingset_pneumonia_counts = np.count_nonzero(TrainingSet[:, -1])\n",
        "# plot\n",
        "figure, axis = plt.subplots(1,2)\n",
        "size = [trainingset_normal_counts, trainingset_pneumonia_counts]\n",
        "explode = (0, 0.1)\n",
        "axis[0].pie(size, explode=explode, labels=LABELS, autopct='%1.1f%%', shadow=True, startangle=270)\n",
        "axis[0].set_title(\"Training Set\")\n",
        "validationset_normal_counts = ValidationSet[:, -1].shape[0] - np.count_nonzero(ValidationSet[:, -1])\n",
        "validationset_pneumonia_counts = np.count_nonzero(ValidationSet[:, -1])\n",
        "size = [validationset_normal_counts, validationset_pneumonia_counts]\n",
        "explode = (0, 0.1)\n",
        "axis[1].pie(size, explode=explode, labels=LABELS, autopct='%1.1f%%', shadow=True, startangle=225)\n",
        "axis[1].set_title(\"Validation Set\")\n",
        "plt.show()"
      ],
      "metadata": {
        "colab": {
          "base_uri": "https://localhost:8080/",
          "height": 199
        },
        "id": "21ClnnRyy-cR",
        "outputId": "c8f03d5d-e3e7-4b8b-bca1-fec8a77baeb7"
      },
      "execution_count": null,
      "outputs": [
        {
          "output_type": "display_data",
          "data": {
            "text/plain": [
              "<Figure size 432x288 with 2 Axes>"
            ],
            "image/png": "[encoded data removed]"
          },
          "metadata": {}
        }
      ]
    },
    {
      "cell_type": "markdown",
      "source": [
        "**Preprocess and normalize the data**"
      ],
      "metadata": {
        "id": "pps-zY0FnfJ-"
      }
    },
    {
      "cell_type": "code",
      "source": [
        "x_train = []\n",
        "y_train = []\n",
        "\n",
        "x_val = []\n",
        "y_val = []\n",
        "\n",
        "x_test = []\n",
        "y_test = []\n",
        "\n",
        "for x, label in TrainingSet:\n",
        "    x_train.append(x)\n",
        "    y_train.append(label)\n",
        "    \n",
        "for x, label in ValidationSet:\n",
        "    x_val.append(x)\n",
        "    y_val.append(label)\n",
        "\n",
        "for x, label in TestSet:\n",
        "    x_test.append(x)\n",
        "    y_test.append(label)"
      ],
      "metadata": {
        "id": "yAvKWCH1zEKf"
      },
      "execution_count": null,
      "outputs": []
    },
    {
      "cell_type": "code",
      "source": [
        "# Normalize the data\n",
        "x_train = np.array(x_train) / 255\n",
        "x_val = np.array(x_val) / 255\n",
        "x_test = np.array(x_test) / 255"
      ],
      "metadata": {
        "id": "Zs99I01vzG-Z"
      },
      "execution_count": null,
      "outputs": []
    },
    {
      "cell_type": "code",
      "source": [
        "# resize data for deep learning \n",
        "x_train = x_train.reshape(-1, IMAGE_SIZE, IMAGE_SIZE, IMAGE_CHANNEL)\n",
        "y_train = np.array(y_train)\n",
        "\n",
        "x_val = x_val.reshape(-1, IMAGE_SIZE, IMAGE_SIZE, IMAGE_CHANNEL)\n",
        "y_val = np.array(y_val)\n",
        "\n",
        "x_test = x_test.reshape(-1, IMAGE_SIZE, IMAGE_SIZE, IMAGE_CHANNEL)\n",
        "y_test = np.array(y_test)"
      ],
      "metadata": {
        "id": "iLd2UrgkzI2m"
      },
      "execution_count": null,
      "outputs": []
    },
    {
      "cell_type": "markdown",
      "source": [
        "**Augment the data to overfeat the data being imbalance**"
      ],
      "metadata": {
        "id": "n3ix5YAanO_w"
      }
    },
    {
      "cell_type": "code",
      "source": [
        "datagen = ImageDataGenerator(\n",
        "        rotation_range = 30,\n",
        "        zoom_range = 0.2,\n",
        "        width_shift_range=0.1,\n",
        "        height_shift_range=0.1,\n",
        "        horizontal_flip = True)\n",
        "\n",
        "datagen.fit(x_train)"
      ],
      "metadata": {
        "id": "iiy2iXl7zMPk"
      },
      "execution_count": null,
      "outputs": []
    },
    {
      "cell_type": "markdown",
      "source": [
        "**Construct the CNN model**"
      ],
      "metadata": {
        "id": "znuuRqlhnKI1"
      }
    },
    {
      "cell_type": "code",
      "source": [
        "model = Sequential()\n",
        "model.add(Conv2D(32 , (3,3) , strides = 1 , padding = 'same' , activation = 'relu' , input_shape = (IMAGE_SIZE, IMAGE_SIZE, IMAGE_CHANNEL)))\n",
        "model.add(Dropout(0.1))\n",
        "model.add(BatchNormalization())\n",
        "model.add(MaxPool2D((2,2) , strides = 2 , padding = 'same'))\n",
        "model.add(Conv2D(64 , (3,3) , strides = 1 , padding = 'same' , activation = 'relu'))\n",
        "model.add(Dropout(0.1))\n",
        "model.add(BatchNormalization())\n",
        "model.add(MaxPool2D((2,2) , strides = 2 , padding = 'same'))\n",
        "model.add(Conv2D(64 , (3,3) , strides = 1 , padding = 'same' , activation = 'relu'))\n",
        "model.add(Dropout(0.1))\n",
        "model.add(BatchNormalization())\n",
        "model.add(MaxPool2D((2,2) , strides = 2 , padding = 'same'))\n",
        "model.add(Conv2D(128 , (3,3) , strides = 1 , padding = 'same' , activation = 'relu'))\n",
        "model.add(Dropout(0.2))\n",
        "model.add(BatchNormalization())\n",
        "model.add(MaxPool2D((2,2) , strides = 2 , padding = 'same'))\n",
        "model.add(Conv2D(256 , (3,3) , strides = 1 , padding = 'same' , activation = 'relu'))\n",
        "model.add(Dropout(0.2))\n",
        "model.add(BatchNormalization())\n",
        "model.add(MaxPool2D((2,2) , strides = 2 , padding = 'same'))\n",
        "model.add(Flatten())\n",
        "model.add(Dense(units = 128 , activation = 'relu'))\n",
        "model.add(Dropout(0.2))\n",
        "model.add(Dense(units = 1 , activation = 'sigmoid'))\n",
        "model.compile(optimizer = \"rmsprop\" , loss = 'binary_crossentropy' , metrics = ['accuracy'])\n",
        "# model.summary()"
      ],
      "metadata": {
        "id": "9VHmhWg6zS_m"
      },
      "execution_count": null,
      "outputs": []
    },
    {
      "cell_type": "markdown",
      "source": [
        "**Define the learning rate reduction based on the accuracy**"
      ],
      "metadata": {
        "id": "qOujHFMsnBd-"
      }
    },
    {
      "cell_type": "code",
      "source": [
        "learning_rate_reduction = ReduceLROnPlateau(monitor='val_accuracy', patience = 2, verbose=VERBOSE_MODE, factor=0.3, min_lr=0.000001)"
      ],
      "metadata": {
        "id": "HdeMbPoczZbX"
      },
      "execution_count": null,
      "outputs": []
    },
    {
      "cell_type": "markdown",
      "source": [
        "**Train the CNN model**"
      ],
      "metadata": {
        "id": "sRj1Z2O4m7G1"
      }
    },
    {
      "cell_type": "code",
      "source": [
        "history = model.fit(datagen.flow(x_train,y_train, batch_size = 32) ,epochs = EPOCH , validation_data = datagen.flow(x_val, y_val) ,callbacks = [learning_rate_reduction])"
      ],
      "metadata": {
        "colab": {
          "base_uri": "https://localhost:8080/"
        },
        "id": "dbpUlq0fzcLQ",
        "outputId": "e6b38236-7b28-440d-9d3b-3819106676f8"
      },
      "execution_count": null,
      "outputs": [
        {
          "output_type": "stream",
          "name": "stdout",
          "text": [
            "Epoch 1/10\n",
            "163/163 [==============================] - 248s 2s/step - loss: 0.4971 - accuracy: 0.8439 - val_loss: 36.0107 - val_accuracy: 0.5000 - lr: 0.0010\n",
            "Epoch 2/10\n",
            "163/163 [==============================] - 243s 1s/step - loss: 0.2752 - accuracy: 0.9011 - val_loss: 15.0868 - val_accuracy: 0.5000 - lr: 0.0010\n",
            "Epoch 3/10\n",
            "163/163 [==============================] - 241s 1s/step - loss: 0.1992 - accuracy: 0.9262 - val_loss: 3.4996 - val_accuracy: 0.5625 - lr: 0.0010\n",
            "Epoch 4/10\n",
            "163/163 [==============================] - 241s 1s/step - loss: 0.1909 - accuracy: 0.9371 - val_loss: 27.0450 - val_accuracy: 0.5000 - lr: 0.0010\n",
            "Epoch 5/10\n",
            "163/163 [==============================] - 240s 1s/step - loss: 0.1703 - accuracy: 0.9402 - val_loss: 0.8710 - val_accuracy: 0.6875 - lr: 0.0010\n",
            "Epoch 6/10\n",
            "163/163 [==============================] - 241s 1s/step - loss: 0.1708 - accuracy: 0.9423 - val_loss: 0.5577 - val_accuracy: 0.9375 - lr: 0.0010\n",
            "Epoch 7/10\n",
            "163/163 [==============================] - 241s 1s/step - loss: 0.1727 - accuracy: 0.9431 - val_loss: 5.1035 - val_accuracy: 0.5625 - lr: 0.0010\n",
            "Epoch 8/10\n",
            "163/163 [==============================] - ETA: 0s - loss: 0.1686 - accuracy: 0.9446\n",
            "Epoch 8: ReduceLROnPlateau reducing learning rate to 0.0003000000142492354.\n",
            "163/163 [==============================] - 239s 1s/step - loss: 0.1686 - accuracy: 0.9446 - val_loss: 1.0633 - val_accuracy: 0.5625 - lr: 0.0010\n",
            "Epoch 9/10\n",
            "163/163 [==============================] - 239s 1s/step - loss: 0.1223 - accuracy: 0.9599 - val_loss: 1.8120 - val_accuracy: 0.5000 - lr: 3.0000e-04\n",
            "Epoch 10/10\n",
            "163/163 [==============================] - ETA: 0s - loss: 0.1058 - accuracy: 0.9659\n",
            "Epoch 10: ReduceLROnPlateau reducing learning rate to 9.000000427477062e-05.\n",
            "163/163 [==============================] - 240s 1s/step - loss: 0.1058 - accuracy: 0.9659 - val_loss: 21.4720 - val_accuracy: 0.5000 - lr: 3.0000e-04\n"
          ]
        }
      ]
    },
    {
      "cell_type": "markdown",
      "source": [
        "**Save the CNN model**"
      ],
      "metadata": {
        "id": "j23yodXam3Nt"
      }
    },
    {
      "cell_type": "code",
      "source": [
        "model.save(os.path.join(GOOGLE_DRIVE_PATH, MODEL_NAME))"
      ],
      "metadata": {
        "colab": {
          "base_uri": "https://localhost:8080/"
        },
        "id": "14NPsIh57HWn",
        "outputId": "58a34f71-41a5-48e6-ed03-914ed6fa5774"
      },
      "execution_count": null,
      "outputs": [
        {
          "output_type": "stream",
          "name": "stdout",
          "text": [
            "INFO:tensorflow:Assets written to: /content/drive/MyDrive/Colab Notebooks/ChestXRay_CNN_Model/assets\n"
          ]
        }
      ]
    },
    {
      "cell_type": "markdown",
      "source": [
        "**Load the CNN model**"
      ],
      "metadata": {
        "id": "poMMvmHLmzwe"
      }
    },
    {
      "cell_type": "code",
      "source": [
        "# model = load_model(os.path.join(GOOGLE_DRIVE_PATH, MODEL_NAME))"
      ],
      "metadata": {
        "id": "cy0YlOPib03k"
      },
      "execution_count": null,
      "outputs": []
    },
    {
      "cell_type": "markdown",
      "source": [
        "**Model visualization and summary**"
      ],
      "metadata": {
        "id": "Rrhtzor9pHu2"
      }
    },
    {
      "cell_type": "code",
      "source": [
        "visualkeras.layered_view(model, legend=True, scale_xy=2)\n",
        "# model.summary()"
      ],
      "metadata": {
        "colab": {
          "base_uri": "https://localhost:8080/",
          "height": 395
        },
        "id": "u-vko3orpIFE",
        "outputId": "293ff441-94f4-4f9c-efce-fa4dd776a94e"
      },
      "execution_count": null,
      "outputs": [
        {
          "output_type": "execute_result",
          "data": {
            "text/plain": [
              "<PIL.Image.Image image mode=RGBA size=1179x378 at 0x7F960680B850>"
            ],
            "image/png": "[encoded data removed]"
          },
          "metadata": {},
          "execution_count": 16
        }
      ]
    },
    {
      "cell_type": "markdown",
      "source": [
        "**Make prediction from test data**"
      ],
      "metadata": {
        "id": "UDTz5yOUmspl"
      }
    },
    {
      "cell_type": "code",
      "source": [
        "predictions = model.predict(x_test)\n",
        "predictions = predictions.reshape(1,-1)[0]\n",
        "y_hat = [0 if val < 0.5 else 1 for val in predictions]"
      ],
      "metadata": {
        "id": "R90gl3xpzlSS"
      },
      "execution_count": null,
      "outputs": []
    },
    {
      "cell_type": "markdown",
      "source": [
        "**Analyze the result**"
      ],
      "metadata": {
        "id": "uoRSnPuJl8Pw"
      }
    },
    {
      "cell_type": "code",
      "source": [
        "# Report Precision, Recall, F1-Score\n",
        "precision = precision_score(y_test, y_hat)\n",
        "recall = recall_score(y_test, y_hat)\n",
        "f1 = f1_score(y_test, y_hat)\n",
        "print(f\"    Precision: {precision}\")\n",
        "print(f\"    Recall: {recall}\")\n",
        "print(f\"    F1-Score: {f1}\")\n",
        "\n",
        "# Confusion matrix\n",
        "cm = confusion_matrix(y_test, y_hat)\n",
        "cm_DF = pd.DataFrame(cm , index=['0','1'] , columns=['0','1'])\n",
        "plt.figure(figsize=(5, 5))\n",
        "sns.heatmap(cm_DF, cmap=\"Reds\", annot=True, fmt='', xticklabels=LABELS, yticklabels=LABELS)"
      ],
      "metadata": {
        "id": "sCM91IywzpMs",
        "colab": {
          "base_uri": "https://localhost:8080/",
          "height": 389
        },
        "outputId": "9832e542-442e-4978-ca7f-e3686dc07325"
      },
      "execution_count": null,
      "outputs": [
        {
          "output_type": "stream",
          "name": "stdout",
          "text": [
            "    Precision: 0.8473451327433629\n",
            "    Recall: 0.982051282051282\n",
            "    F1-Score: 0.9097387173396674\n"
          ]
        },
        {
          "output_type": "execute_result",
          "data": {
            "text/plain": [
              "<matplotlib.axes._subplots.AxesSubplot at 0x7f96065ed690>"
            ]
          },
          "metadata": {},
          "execution_count": 18
        },
        {
          "output_type": "display_data",
          "data": {
            "text/plain": [
              "<Figure size 360x360 with 2 Axes>"
            ],
            "image/png": "[encoded data removed]"
          },
          "metadata": {
            "needs_background": "light"
          }
        }
      ]
    }
  ]
}