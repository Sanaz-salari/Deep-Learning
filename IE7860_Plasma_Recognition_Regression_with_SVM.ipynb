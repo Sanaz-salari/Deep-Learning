{
  "nbformat": 4,
  "nbformat_minor": 0,
  "metadata": {
    "colab": {
      "name": "IE7860_Plasma Recognition_Regression with SVM.ipynb",
      "provenance": [],
      "collapsed_sections": [],
      "authorship_tag": "ABX9TyMM7xwWcq61LQj2n0rPB02f",
      "include_colab_link": true
    },
    "kernelspec": {
      "name": "python3",
      "display_name": "Python 3"
    },
    "language_info": {
      "name": "python"
    }
  },
  "cells": [
    {
      "cell_type": "markdown",
      "metadata": {
        "id": "view-in-github",
        "colab_type": "text"
      },
      "source": [
        "<a href=\"https://colab.research.google.com/github/Sanaz-salari/Deep-Learning/blob/main/IE7860_Plasma_Recognition_Regression_with_SVM.ipynb\" target=\"_parent\"><img src=\"https://colab.research.google.com/assets/colab-badge.svg\" alt=\"Open In Colab\"/></a>"
      ]
    },
    {
      "cell_type": "markdown",
      "source": [
        "**Process Modelling Assignment- Reactive-ION Plasma Etching Process:**\n",
        "\n",
        "This problem is a multi-input and multi-output regression issue that we would like to solve by SVM algorithm. This is a regression problem since it involves four numerical continuous output variables which we want to predict as target values. The task here is to design and train an SVM to minimize the error between actual and predicted output values. We have 53 input-output data pairs, 6 features, and 4 outputs. The steps I did from beginning to end will be explained in the following."
      ],
      "metadata": {
        "id": "FVGzGBVwGYU_"
      }
    },
    {
      "cell_type": "code",
      "execution_count": null,
      "metadata": {
        "id": "A5AoezrTGQNq"
      },
      "outputs": [],
      "source": [
        "# Standard imports\n",
        "import numpy as np\n",
        "import matplotlib.pyplot as plt\n",
        "from scipy import stats\n",
        "import pandas as pd\n",
        "%matplotlib inline\n",
        "\n",
        "# Use seaborn plotting defaults\n",
        "import seaborn as sns; sns.set()"
      ]
    },
    {
      "cell_type": "code",
      "source": [
        "#Load data from local drive \n",
        "from google.colab import files\n",
        "uploaded = files.upload()"
      ],
      "metadata": {
        "colab": {
          "resources": {
            "http://localhost:8080/nbextensions/google.colab/files.js": {
              "data": "Ly8gQ29weXJpZ2h0IDIwMTcgR29vZ2xlIExMQwovLwovLyBMaWNlbnNlZCB1bmRlciB0aGUgQXBhY2hlIExpY2Vuc2UsIFZlcnNpb24gMi4wICh0aGUgIkxpY2Vuc2UiKTsKLy8geW91IG1heSBub3QgdXNlIHRoaXMgZmlsZSBleGNlcHQgaW4gY29tcGxpYW5jZSB3aXRoIHRoZSBMaWNlbnNlLgovLyBZb3UgbWF5IG9idGFpbiBhIGNvcHkgb2YgdGhlIExpY2Vuc2UgYXQKLy8KLy8gICAgICBodHRwOi8vd3d3LmFwYWNoZS5vcmcvbGljZW5zZXMvTElDRU5TRS0yLjAKLy8KLy8gVW5sZXNzIHJlcXVpcmVkIGJ5IGFwcGxpY2FibGUgbGF3IG9yIGFncmVlZCB0byBpbiB3cml0aW5nLCBzb2Z0d2FyZQovLyBkaXN0cmlidXRlZCB1bmRlciB0aGUgTGljZW5zZSBpcyBkaXN0cmlidXRlZCBvbiBhbiAiQVMgSVMiIEJBU0lTLAovLyBXSVRIT1VUIFdBUlJBTlRJRVMgT1IgQ09ORElUSU9OUyBPRiBBTlkgS0lORCwgZWl0aGVyIGV4cHJlc3Mgb3IgaW1wbGllZC4KLy8gU2VlIHRoZSBMaWNlbnNlIGZvciB0aGUgc3BlY2lmaWMgbGFuZ3VhZ2UgZ292ZXJuaW5nIHBlcm1pc3Npb25zIGFuZAovLyBsaW1pdGF0aW9ucyB1bmRlciB0aGUgTGljZW5zZS4KCi8qKgogKiBAZmlsZW92ZXJ2aWV3IEhlbHBlcnMgZm9yIGdvb2dsZS5jb2xhYiBQeXRob24gbW9kdWxlLgogKi8KKGZ1bmN0aW9uKHNjb3BlKSB7CmZ1bmN0aW9uIHNwYW4odGV4dCwgc3R5bGVBdHRyaWJ1dGVzID0ge30pIHsKICBjb25zdCBlbGVtZW50ID0gZG9jdW1lbnQuY3JlYXRlRWxlbWVudCgnc3BhbicpOwogIGVsZW1lbnQudGV4dENvbnRlbnQgPSB0ZXh0OwogIGZvciAoY29uc3Qga2V5IG9mIE9iamVjdC5rZXlzKHN0eWxlQXR0cmlidXRlcykpIHsKICAgIGVsZW1lbnQuc3R5bGVba2V5XSA9IHN0eWxlQXR0cmlidXRlc1trZXldOwogIH0KICByZXR1cm4gZWxlbWVudDsKfQoKLy8gTWF4IG51bWJlciBvZiBieXRlcyB3aGljaCB3aWxsIGJlIHVwbG9hZGVkIGF0IGEgdGltZS4KY29uc3QgTUFYX1BBWUxPQURfU0laRSA9IDEwMCAqIDEwMjQ7CgpmdW5jdGlvbiBfdXBsb2FkRmlsZXMoaW5wdXRJZCwgb3V0cHV0SWQpIHsKICBjb25zdCBzdGVwcyA9IHVwbG9hZEZpbGVzU3RlcChpbnB1dElkLCBvdXRwdXRJZCk7CiAgY29uc3Qgb3V0cHV0RWxlbWVudCA9IGRvY3VtZW50LmdldEVsZW1lbnRCeUlkKG91dHB1dElkKTsKICAvLyBDYWNoZSBzdGVwcyBvbiB0aGUgb3V0cHV0RWxlbWVudCB0byBtYWtlIGl0IGF2YWlsYWJsZSBmb3IgdGhlIG5leHQgY2FsbAogIC8vIHRvIHVwbG9hZEZpbGVzQ29udGludWUgZnJvbSBQeXRob24uCiAgb3V0cHV0RWxlbWVudC5zdGVwcyA9IHN0ZXBzOwoKICByZXR1cm4gX3VwbG9hZEZpbGVzQ29udGludWUob3V0cHV0SWQpOwp9CgovLyBUaGlzIGlzIHJvdWdobHkgYW4gYXN5bmMgZ2VuZXJhdG9yIChub3Qgc3VwcG9ydGVkIGluIHRoZSBicm93c2VyIHlldCksCi8vIHdoZXJlIHRoZXJlIGFyZSBtdWx0aXBsZSBhc3luY2hyb25vdXMgc3RlcHMgYW5kIHRoZSBQeXRob24gc2lkZSBpcyBnb2luZwovLyB0byBwb2xsIGZvciBjb21wbGV0aW9uIG9mIGVhY2ggc3RlcC4KLy8gVGhpcyB1c2VzIGEgUHJvbWlzZSB0byBibG9jayB0aGUgcHl0aG9uIHNpZGUgb24gY29tcGxldGlvbiBvZiBlYWNoIHN0ZXAsCi8vIHRoZW4gcGFzc2VzIHRoZSByZXN1bHQgb2YgdGhlIHByZXZpb3VzIHN0ZXAgYXMgdGhlIGlucHV0IHRvIHRoZSBuZXh0IHN0ZXAuCmZ1bmN0aW9uIF91cGxvYWRGaWxlc0NvbnRpbnVlKG91dHB1dElkKSB7CiAgY29uc3Qgb3V0cHV0RWxlbWVudCA9IGRvY3VtZW50LmdldEVsZW1lbnRCeUlkKG91dHB1dElkKTsKICBjb25zdCBzdGVwcyA9IG91dHB1dEVsZW1lbnQuc3RlcHM7CgogIGNvbnN0IG5leHQgPSBzdGVwcy5uZXh0KG91dHB1dEVsZW1lbnQubGFzdFByb21pc2VWYWx1ZSk7CiAgcmV0dXJuIFByb21pc2UucmVzb2x2ZShuZXh0LnZhbHVlLnByb21pc2UpLnRoZW4oKHZhbHVlKSA9PiB7CiAgICAvLyBDYWNoZSB0aGUgbGFzdCBwcm9taXNlIHZhbHVlIHRvIG1ha2UgaXQgYXZhaWxhYmxlIHRvIHRoZSBuZXh0CiAgICAvLyBzdGVwIG9mIHRoZSBnZW5lcmF0b3IuCiAgICBvdXRwdXRFbGVtZW50Lmxhc3RQcm9taXNlVmFsdWUgPSB2YWx1ZTsKICAgIHJldHVybiBuZXh0LnZhbHVlLnJlc3BvbnNlOwogIH0pOwp9CgovKioKICogR2VuZXJhdG9yIGZ1bmN0aW9uIHdoaWNoIGlzIGNhbGxlZCBiZXR3ZWVuIGVhY2ggYXN5bmMgc3RlcCBvZiB0aGUgdXBsb2FkCiAqIHByb2Nlc3MuCiAqIEBwYXJhbSB7c3RyaW5nfSBpbnB1dElkIEVsZW1lbnQgSUQgb2YgdGhlIGlucHV0IGZpbGUgcGlja2VyIGVsZW1lbnQuCiAqIEBwYXJhbSB7c3RyaW5nfSBvdXRwdXRJZCBFbGVtZW50IElEIG9mIHRoZSBvdXRwdXQgZGlzcGxheS4KICogQHJldHVybiB7IUl0ZXJhYmxlPCFPYmplY3Q+fSBJdGVyYWJsZSBvZiBuZXh0IHN0ZXBzLgogKi8KZnVuY3Rpb24qIHVwbG9hZEZpbGVzU3RlcChpbnB1dElkLCBvdXRwdXRJZCkgewogIGNvbnN0IGlucHV0RWxlbWVudCA9IGRvY3VtZW50LmdldEVsZW1lbnRCeUlkKGlucHV0SWQpOwogIGlucHV0RWxlbWVudC5kaXNhYmxlZCA9IGZhbHNlOwoKICBjb25zdCBvdXRwdXRFbGVtZW50ID0gZG9jdW1lbnQuZ2V0RWxlbWVudEJ5SWQob3V0cHV0SWQpOwogIG91dHB1dEVsZW1lbnQuaW5uZXJIVE1MID0gJyc7CgogIGNvbnN0IHBpY2tlZFByb21pc2UgPSBuZXcgUHJvbWlzZSgocmVzb2x2ZSkgPT4gewogICAgaW5wdXRFbGVtZW50LmFkZEV2ZW50TGlzdGVuZXIoJ2NoYW5nZScsIChlKSA9PiB7CiAgICAgIHJlc29sdmUoZS50YXJnZXQuZmlsZXMpOwogICAgfSk7CiAgfSk7CgogIGNvbnN0IGNhbmNlbCA9IGRvY3VtZW50LmNyZWF0ZUVsZW1lbnQoJ2J1dHRvbicpOwogIGlucHV0RWxlbWVudC5wYXJlbnRFbGVtZW50LmFwcGVuZENoaWxkKGNhbmNlbCk7CiAgY2FuY2VsLnRleHRDb250ZW50ID0gJ0NhbmNlbCB1cGxvYWQnOwogIGNvbnN0IGNhbmNlbFByb21pc2UgPSBuZXcgUHJvbWlzZSgocmVzb2x2ZSkgPT4gewogICAgY2FuY2VsLm9uY2xpY2sgPSAoKSA9PiB7CiAgICAgIHJlc29sdmUobnVsbCk7CiAgICB9OwogIH0pOwoKICAvLyBXYWl0IGZvciB0aGUgdXNlciB0byBwaWNrIHRoZSBmaWxlcy4KICBjb25zdCBmaWxlcyA9IHlpZWxkIHsKICAgIHByb21pc2U6IFByb21pc2UucmFjZShbcGlja2VkUHJvbWlzZSwgY2FuY2VsUHJvbWlzZV0pLAogICAgcmVzcG9uc2U6IHsKICAgICAgYWN0aW9uOiAnc3RhcnRpbmcnLAogICAgfQogIH07CgogIGNhbmNlbC5yZW1vdmUoKTsKCiAgLy8gRGlzYWJsZSB0aGUgaW5wdXQgZWxlbWVudCBzaW5jZSBmdXJ0aGVyIHBpY2tzIGFyZSBub3QgYWxsb3dlZC4KICBpbnB1dEVsZW1lbnQuZGlzYWJsZWQgPSB0cnVlOwoKICBpZiAoIWZpbGVzKSB7CiAgICByZXR1cm4gewogICAgICByZXNwb25zZTogewogICAgICAgIGFjdGlvbjogJ2NvbXBsZXRlJywKICAgICAgfQogICAgfTsKICB9CgogIGZvciAoY29uc3QgZmlsZSBvZiBmaWxlcykgewogICAgY29uc3QgbGkgPSBkb2N1bWVudC5jcmVhdGVFbGVtZW50KCdsaScpOwogICAgbGkuYXBwZW5kKHNwYW4oZmlsZS5uYW1lLCB7Zm9udFdlaWdodDogJ2JvbGQnfSkpOwogICAgbGkuYXBwZW5kKHNwYW4oCiAgICAgICAgYCgke2ZpbGUudHlwZSB8fCAnbi9hJ30pIC0gJHtmaWxlLnNpemV9IGJ5dGVzLCBgICsKICAgICAgICBgbGFzdCBtb2RpZmllZDogJHsKICAgICAgICAgICAgZmlsZS5sYXN0TW9kaWZpZWREYXRlID8gZmlsZS5sYXN0TW9kaWZpZWREYXRlLnRvTG9jYWxlRGF0ZVN0cmluZygpIDoKICAgICAgICAgICAgICAgICAgICAgICAgICAgICAgICAgICAgJ24vYSd9IC0gYCkpOwogICAgY29uc3QgcGVyY2VudCA9IHNwYW4oJzAlIGRvbmUnKTsKICAgIGxpLmFwcGVuZENoaWxkKHBlcmNlbnQpOwoKICAgIG91dHB1dEVsZW1lbnQuYXBwZW5kQ2hpbGQobGkpOwoKICAgIGNvbnN0IGZpbGVEYXRhUHJvbWlzZSA9IG5ldyBQcm9taXNlKChyZXNvbHZlKSA9PiB7CiAgICAgIGNvbnN0IHJlYWRlciA9IG5ldyBGaWxlUmVhZGVyKCk7CiAgICAgIHJlYWRlci5vbmxvYWQgPSAoZSkgPT4gewogICAgICAgIHJlc29sdmUoZS50YXJnZXQucmVzdWx0KTsKICAgICAgfTsKICAgICAgcmVhZGVyLnJlYWRBc0FycmF5QnVmZmVyKGZpbGUpOwogICAgfSk7CiAgICAvLyBXYWl0IGZvciB0aGUgZGF0YSB0byBiZSByZWFkeS4KICAgIGxldCBmaWxlRGF0YSA9IHlpZWxkIHsKICAgICAgcHJvbWlzZTogZmlsZURhdGFQcm9taXNlLAogICAgICByZXNwb25zZTogewogICAgICAgIGFjdGlvbjogJ2NvbnRpbnVlJywKICAgICAgfQogICAgfTsKCiAgICAvLyBVc2UgYSBjaHVua2VkIHNlbmRpbmcgdG8gYXZvaWQgbWVzc2FnZSBzaXplIGxpbWl0cy4gU2VlIGIvNjIxMTU2NjAuCiAgICBsZXQgcG9zaXRpb24gPSAwOwogICAgZG8gewogICAgICBjb25zdCBsZW5ndGggPSBNYXRoLm1pbihmaWxlRGF0YS5ieXRlTGVuZ3RoIC0gcG9zaXRpb24sIE1BWF9QQVlMT0FEX1NJWkUpOwogICAgICBjb25zdCBjaHVuayA9IG5ldyBVaW50OEFycmF5KGZpbGVEYXRhLCBwb3NpdGlvbiwgbGVuZ3RoKTsKICAgICAgcG9zaXRpb24gKz0gbGVuZ3RoOwoKICAgICAgY29uc3QgYmFzZTY0ID0gYnRvYShTdHJpbmcuZnJvbUNoYXJDb2RlLmFwcGx5KG51bGwsIGNodW5rKSk7CiAgICAgIHlpZWxkIHsKICAgICAgICByZXNwb25zZTogewogICAgICAgICAgYWN0aW9uOiAnYXBwZW5kJywKICAgICAgICAgIGZpbGU6IGZpbGUubmFtZSwKICAgICAgICAgIGRhdGE6IGJhc2U2NCwKICAgICAgICB9LAogICAgICB9OwoKICAgICAgbGV0IHBlcmNlbnREb25lID0gZmlsZURhdGEuYnl0ZUxlbmd0aCA9PT0gMCA/CiAgICAgICAgICAxMDAgOgogICAgICAgICAgTWF0aC5yb3VuZCgocG9zaXRpb24gLyBmaWxlRGF0YS5ieXRlTGVuZ3RoKSAqIDEwMCk7CiAgICAgIHBlcmNlbnQudGV4dENvbnRlbnQgPSBgJHtwZXJjZW50RG9uZX0lIGRvbmVgOwoKICAgIH0gd2hpbGUgKHBvc2l0aW9uIDwgZmlsZURhdGEuYnl0ZUxlbmd0aCk7CiAgfQoKICAvLyBBbGwgZG9uZS4KICB5aWVsZCB7CiAgICByZXNwb25zZTogewogICAgICBhY3Rpb246ICdjb21wbGV0ZScsCiAgICB9CiAgfTsKfQoKc2NvcGUuZ29vZ2xlID0gc2NvcGUuZ29vZ2xlIHx8IHt9OwpzY29wZS5nb29nbGUuY29sYWIgPSBzY29wZS5nb29nbGUuY29sYWIgfHwge307CnNjb3BlLmdvb2dsZS5jb2xhYi5fZmlsZXMgPSB7CiAgX3VwbG9hZEZpbGVzLAogIF91cGxvYWRGaWxlc0NvbnRpbnVlLAp9Owp9KShzZWxmKTsK",
              "ok": true,
              "headers": [
                [
                  "content-type",
                  "application/javascript"
                ]
              ],
              "status": 200,
              "status_text": ""
            }
          },
          "base_uri": "https://localhost:8080/",
          "height": 72
        },
        "id": "oNeII25AGz02",
        "outputId": "cfb64a6b-94b7-485a-90f7-c637523f3fe2"
      },
      "execution_count": null,
      "outputs": [
        {
          "output_type": "display_data",
          "data": {
            "text/plain": [
              "<IPython.core.display.HTML object>"
            ],
            "text/html": [
              "\n",
              "     <input type=\"file\" id=\"files-eb4fbc77-8ae4-47be-a8d2-97049b3de696\" name=\"files[]\" multiple disabled\n",
              "        style=\"border:none\" />\n",
              "     <output id=\"result-eb4fbc77-8ae4-47be-a8d2-97049b3de696\">\n",
              "      Upload widget is only available when the cell has been executed in the\n",
              "      current browser session. Please rerun this cell to enable.\n",
              "      </output>\n",
              "      <script src=\"/nbextensions/google.colab/files.js\"></script> "
            ]
          },
          "metadata": {}
        },
        {
          "output_type": "stream",
          "name": "stdout",
          "text": [
            "Saving Plasma_Dataset.csv to Plasma_Dataset.csv\n"
          ]
        }
      ]
    },
    {
      "cell_type": "code",
      "source": [
        "#Load data set\n",
        "df = pd.read_csv('Plasma_Dataset.csv')\n"
      ],
      "metadata": {
        "id": "MsDKHT8rVkGh"
      },
      "execution_count": null,
      "outputs": []
    },
    {
      "cell_type": "code",
      "source": [
        "df.head()"
      ],
      "metadata": {
        "colab": {
          "base_uri": "https://localhost:8080/",
          "height": 206
        },
        "id": "WCsdmYbds4sO",
        "outputId": "11a3897c-e9dd-49a8-c657-43b42a6dfd66"
      },
      "execution_count": null,
      "outputs": [
        {
          "output_type": "execute_result",
          "data": {
            "text/plain": [
              "   run  pressure  rf_power  electrode_gap  cci_flow  he_flow  o2_flow  \\\n",
              "0    1       300       300            1.8       100      200       20   \n",
              "1    2       200       400            1.8       100       50       10   \n",
              "2    3       200       400            1.2       150      200       20   \n",
              "3    4       300       400            1.8       150      200       20   \n",
              "4    5       200       400            1.2       150       50       10   \n",
              "\n",
              "   etch_rate  etch_uniformity  oxide_selectivity  photoresist_selectivity  \n",
              "0       3491             14.2               6.48                     2.01  \n",
              "1       3884              3.9               5.98                     1.91  \n",
              "2       4931             24.8               5.39                     1.85  \n",
              "3       4726              6.6               5.97                     2.11  \n",
              "4       5089             12.4               5.61                     2.16  "
            ],
            "text/html": [
              "\n",
              "  <div id=\"df-16b9202b-3bb5-4cda-88ee-396ad4ee59b5\">\n",
              "    <div class=\"colab-df-container\">\n",
              "      <div>\n",
              "<style scoped>\n",
              "    .dataframe tbody tr th:only-of-type {\n",
              "        vertical-align: middle;\n",
              "    }\n",
              "\n",
              "    .dataframe tbody tr th {\n",
              "        vertical-align: top;\n",
              "    }\n",
              "\n",
              "    .dataframe thead th {\n",
              "        text-align: right;\n",
              "    }\n",
              "</style>\n",
              "<table border=\"1\" class=\"dataframe\">\n",
              "  <thead>\n",
              "    <tr style=\"text-align: right;\">\n",
              "      <th></th>\n",
              "      <th>run</th>\n",
              "      <th>pressure</th>\n",
              "      <th>rf_power</th>\n",
              "      <th>electrode_gap</th>\n",
              "      <th>cci_flow</th>\n",
              "      <th>he_flow</th>\n",
              "      <th>o2_flow</th>\n",
              "      <th>etch_rate</th>\n",
              "      <th>etch_uniformity</th>\n",
              "      <th>oxide_selectivity</th>\n",
              "      <th>photoresist_selectivity</th>\n",
              "    </tr>\n",
              "  </thead>\n",
              "  <tbody>\n",
              "    <tr>\n",
              "      <th>0</th>\n",
              "      <td>1</td>\n",
              "      <td>300</td>\n",
              "      <td>300</td>\n",
              "      <td>1.8</td>\n",
              "      <td>100</td>\n",
              "      <td>200</td>\n",
              "      <td>20</td>\n",
              "      <td>3491</td>\n",
              "      <td>14.2</td>\n",
              "      <td>6.48</td>\n",
              "      <td>2.01</td>\n",
              "    </tr>\n",
              "    <tr>\n",
              "      <th>1</th>\n",
              "      <td>2</td>\n",
              "      <td>200</td>\n",
              "      <td>400</td>\n",
              "      <td>1.8</td>\n",
              "      <td>100</td>\n",
              "      <td>50</td>\n",
              "      <td>10</td>\n",
              "      <td>3884</td>\n",
              "      <td>3.9</td>\n",
              "      <td>5.98</td>\n",
              "      <td>1.91</td>\n",
              "    </tr>\n",
              "    <tr>\n",
              "      <th>2</th>\n",
              "      <td>3</td>\n",
              "      <td>200</td>\n",
              "      <td>400</td>\n",
              "      <td>1.2</td>\n",
              "      <td>150</td>\n",
              "      <td>200</td>\n",
              "      <td>20</td>\n",
              "      <td>4931</td>\n",
              "      <td>24.8</td>\n",
              "      <td>5.39</td>\n",
              "      <td>1.85</td>\n",
              "    </tr>\n",
              "    <tr>\n",
              "      <th>3</th>\n",
              "      <td>4</td>\n",
              "      <td>300</td>\n",
              "      <td>400</td>\n",
              "      <td>1.8</td>\n",
              "      <td>150</td>\n",
              "      <td>200</td>\n",
              "      <td>20</td>\n",
              "      <td>4726</td>\n",
              "      <td>6.6</td>\n",
              "      <td>5.97</td>\n",
              "      <td>2.11</td>\n",
              "    </tr>\n",
              "    <tr>\n",
              "      <th>4</th>\n",
              "      <td>5</td>\n",
              "      <td>200</td>\n",
              "      <td>400</td>\n",
              "      <td>1.2</td>\n",
              "      <td>150</td>\n",
              "      <td>50</td>\n",
              "      <td>10</td>\n",
              "      <td>5089</td>\n",
              "      <td>12.4</td>\n",
              "      <td>5.61</td>\n",
              "      <td>2.16</td>\n",
              "    </tr>\n",
              "  </tbody>\n",
              "</table>\n",
              "</div>\n",
              "      <button class=\"colab-df-convert\" onclick=\"convertToInteractive('df-16b9202b-3bb5-4cda-88ee-396ad4ee59b5')\"\n",
              "              title=\"Convert this dataframe to an interactive table.\"\n",
              "              style=\"display:none;\">\n",
              "        \n",
              "  <svg xmlns=\"http://www.w3.org/2000/svg\" height=\"24px\"viewBox=\"0 0 24 24\"\n",
              "       width=\"24px\">\n",
              "    <path d=\"M0 0h24v24H0V0z\" fill=\"none\"/>\n",
              "    <path d=\"M18.56 5.44l.94 2.06.94-2.06 2.06-.94-2.06-.94-.94-2.06-.94 2.06-2.06.94zm-11 1L8.5 8.5l.94-2.06 2.06-.94-2.06-.94L8.5 2.5l-.94 2.06-2.06.94zm10 10l.94 2.06.94-2.06 2.06-.94-2.06-.94-.94-2.06-.94 2.06-2.06.94z\"/><path d=\"M17.41 7.96l-1.37-1.37c-.4-.4-.92-.59-1.43-.59-.52 0-1.04.2-1.43.59L10.3 9.45l-7.72 7.72c-.78.78-.78 2.05 0 2.83L4 21.41c.39.39.9.59 1.41.59.51 0 1.02-.2 1.41-.59l7.78-7.78 2.81-2.81c.8-.78.8-2.07 0-2.86zM5.41 20L4 18.59l7.72-7.72 1.47 1.35L5.41 20z\"/>\n",
              "  </svg>\n",
              "      </button>\n",
              "      \n",
              "  <style>\n",
              "    .colab-df-container {\n",
              "      display:flex;\n",
              "      flex-wrap:wrap;\n",
              "      gap: 12px;\n",
              "    }\n",
              "\n",
              "    .colab-df-convert {\n",
              "      background-color: #E8F0FE;\n",
              "      border: none;\n",
              "      border-radius: 50%;\n",
              "      cursor: pointer;\n",
              "      display: none;\n",
              "      fill: #1967D2;\n",
              "      height: 32px;\n",
              "      padding: 0 0 0 0;\n",
              "      width: 32px;\n",
              "    }\n",
              "\n",
              "    .colab-df-convert:hover {\n",
              "      background-color: #E2EBFA;\n",
              "      box-shadow: 0px 1px 2px rgba(60, 64, 67, 0.3), 0px 1px 3px 1px rgba(60, 64, 67, 0.15);\n",
              "      fill: #174EA6;\n",
              "    }\n",
              "\n",
              "    [theme=dark] .colab-df-convert {\n",
              "      background-color: #3B4455;\n",
              "      fill: #D2E3FC;\n",
              "    }\n",
              "\n",
              "    [theme=dark] .colab-df-convert:hover {\n",
              "      background-color: #434B5C;\n",
              "      box-shadow: 0px 1px 3px 1px rgba(0, 0, 0, 0.15);\n",
              "      filter: drop-shadow(0px 1px 2px rgba(0, 0, 0, 0.3));\n",
              "      fill: #FFFFFF;\n",
              "    }\n",
              "  </style>\n",
              "\n",
              "      <script>\n",
              "        const buttonEl =\n",
              "          document.querySelector('#df-16b9202b-3bb5-4cda-88ee-396ad4ee59b5 button.colab-df-convert');\n",
              "        buttonEl.style.display =\n",
              "          google.colab.kernel.accessAllowed ? 'block' : 'none';\n",
              "\n",
              "        async function convertToInteractive(key) {\n",
              "          const element = document.querySelector('#df-16b9202b-3bb5-4cda-88ee-396ad4ee59b5');\n",
              "          const dataTable =\n",
              "            await google.colab.kernel.invokeFunction('convertToInteractive',\n",
              "                                                     [key], {});\n",
              "          if (!dataTable) return;\n",
              "\n",
              "          const docLinkHtml = 'Like what you see? Visit the ' +\n",
              "            '<a target=\"_blank\" href=https://colab.research.google.com/notebooks/data_table.ipynb>data table notebook</a>'\n",
              "            + ' to learn more about interactive tables.';\n",
              "          element.innerHTML = '';\n",
              "          dataTable['output_type'] = 'display_data';\n",
              "          await google.colab.output.renderOutput(dataTable, element);\n",
              "          const docLink = document.createElement('div');\n",
              "          docLink.innerHTML = docLinkHtml;\n",
              "          element.appendChild(docLink);\n",
              "        }\n",
              "      </script>\n",
              "    </div>\n",
              "  </div>\n",
              "  "
            ]
          },
          "metadata": {},
          "execution_count": 6
        }
      ]
    },
    {
      "cell_type": "markdown",
      "source": [
        " ***Exploratory data analysis ***\n",
        " \n",
        " Now, I will explore the data to gain insights about the data."
      ],
      "metadata": {
        "id": "jLB95BwLtCMe"
      }
    },
    {
      "cell_type": "code",
      "source": [
        "# view dimensions of dataset\n",
        "df.shape"
      ],
      "metadata": {
        "colab": {
          "base_uri": "https://localhost:8080/"
        },
        "id": "XoItdQOeVfgK",
        "outputId": "cae0f142-5c3a-4ed5-afd0-295b5b531859"
      },
      "execution_count": null,
      "outputs": [
        {
          "output_type": "execute_result",
          "data": {
            "text/plain": [
              "(53, 11)"
            ]
          },
          "metadata": {},
          "execution_count": 7
        }
      ]
    },
    {
      "cell_type": "code",
      "source": [
        "df.describe()"
      ],
      "metadata": {
        "colab": {
          "base_uri": "https://localhost:8080/",
          "height": 300
        },
        "id": "k0JE4sMAtm8P",
        "outputId": "5d7d9616-524d-436f-ec2e-91383bfef1ef"
      },
      "execution_count": null,
      "outputs": [
        {
          "output_type": "execute_result",
          "data": {
            "text/plain": [
              "             run    pressure    rf_power  electrode_gap    cci_flow  \\\n",
              "count  53.000000   53.000000   53.000000      53.000000   53.000000   \n",
              "mean   27.000000  250.000000  350.000000       1.518868  124.962264   \n",
              "std    15.443445   45.641159   45.641159       0.285588   22.871684   \n",
              "min     1.000000  131.000000  231.000000       0.800000   64.000000   \n",
              "25%    14.000000  200.000000  300.000000       1.200000  100.000000   \n",
              "50%    27.000000  250.000000  350.000000       1.500000  125.000000   \n",
              "75%    40.000000  300.000000  400.000000       1.800000  150.000000   \n",
              "max    53.000000  369.000000  469.000000       2.200000  184.000000   \n",
              "\n",
              "          he_flow    o2_flow    etch_rate  etch_uniformity  oxide_selectivity  \\\n",
              "count   53.000000  53.000000    53.000000        53.000000          53.000000   \n",
              "mean   124.056604  15.000000  4204.283019        11.635849           6.988302   \n",
              "std     62.203579   4.574175   689.441535        10.648241           2.186921   \n",
              "min      0.000000   3.000000  2704.000000         0.500000           2.650000   \n",
              "25%     50.000000  10.000000  3684.000000         3.900000           5.840000   \n",
              "50%    125.000000  15.000000  4390.000000         8.300000           6.410000   \n",
              "75%    200.000000  20.000000  4703.000000        15.100000           7.720000   \n",
              "max    200.000000  27.000000  5515.000000        55.200000          15.150000   \n",
              "\n",
              "       photoresist_selectivity  \n",
              "count                53.000000  \n",
              "mean                  2.226981  \n",
              "std                   0.541315  \n",
              "min                   1.320000  \n",
              "25%                   1.970000  \n",
              "50%                   2.100000  \n",
              "75%                   2.310000  \n",
              "max                   4.170000  "
            ],
            "text/html": [
              "\n",
              "  <div id=\"df-4a508d0e-e410-4737-b2ac-b633f279fe3f\">\n",
              "    <div class=\"colab-df-container\">\n",
              "      <div>\n",
              "<style scoped>\n",
              "    .dataframe tbody tr th:only-of-type {\n",
              "        vertical-align: middle;\n",
              "    }\n",
              "\n",
              "    .dataframe tbody tr th {\n",
              "        vertical-align: top;\n",
              "    }\n",
              "\n",
              "    .dataframe thead th {\n",
              "        text-align: right;\n",
              "    }\n",
              "</style>\n",
              "<table border=\"1\" class=\"dataframe\">\n",
              "  <thead>\n",
              "    <tr style=\"text-align: right;\">\n",
              "      <th></th>\n",
              "      <th>run</th>\n",
              "      <th>pressure</th>\n",
              "      <th>rf_power</th>\n",
              "      <th>electrode_gap</th>\n",
              "      <th>cci_flow</th>\n",
              "      <th>he_flow</th>\n",
              "      <th>o2_flow</th>\n",
              "      <th>etch_rate</th>\n",
              "      <th>etch_uniformity</th>\n",
              "      <th>oxide_selectivity</th>\n",
              "      <th>photoresist_selectivity</th>\n",
              "    </tr>\n",
              "  </thead>\n",
              "  <tbody>\n",
              "    <tr>\n",
              "      <th>count</th>\n",
              "      <td>53.000000</td>\n",
              "      <td>53.000000</td>\n",
              "      <td>53.000000</td>\n",
              "      <td>53.000000</td>\n",
              "      <td>53.000000</td>\n",
              "      <td>53.000000</td>\n",
              "      <td>53.000000</td>\n",
              "      <td>53.000000</td>\n",
              "      <td>53.000000</td>\n",
              "      <td>53.000000</td>\n",
              "      <td>53.000000</td>\n",
              "    </tr>\n",
              "    <tr>\n",
              "      <th>mean</th>\n",
              "      <td>27.000000</td>\n",
              "      <td>250.000000</td>\n",
              "      <td>350.000000</td>\n",
              "      <td>1.518868</td>\n",
              "      <td>124.962264</td>\n",
              "      <td>124.056604</td>\n",
              "      <td>15.000000</td>\n",
              "      <td>4204.283019</td>\n",
              "      <td>11.635849</td>\n",
              "      <td>6.988302</td>\n",
              "      <td>2.226981</td>\n",
              "    </tr>\n",
              "    <tr>\n",
              "      <th>std</th>\n",
              "      <td>15.443445</td>\n",
              "      <td>45.641159</td>\n",
              "      <td>45.641159</td>\n",
              "      <td>0.285588</td>\n",
              "      <td>22.871684</td>\n",
              "      <td>62.203579</td>\n",
              "      <td>4.574175</td>\n",
              "      <td>689.441535</td>\n",
              "      <td>10.648241</td>\n",
              "      <td>2.186921</td>\n",
              "      <td>0.541315</td>\n",
              "    </tr>\n",
              "    <tr>\n",
              "      <th>min</th>\n",
              "      <td>1.000000</td>\n",
              "      <td>131.000000</td>\n",
              "      <td>231.000000</td>\n",
              "      <td>0.800000</td>\n",
              "      <td>64.000000</td>\n",
              "      <td>0.000000</td>\n",
              "      <td>3.000000</td>\n",
              "      <td>2704.000000</td>\n",
              "      <td>0.500000</td>\n",
              "      <td>2.650000</td>\n",
              "      <td>1.320000</td>\n",
              "    </tr>\n",
              "    <tr>\n",
              "      <th>25%</th>\n",
              "      <td>14.000000</td>\n",
              "      <td>200.000000</td>\n",
              "      <td>300.000000</td>\n",
              "      <td>1.200000</td>\n",
              "      <td>100.000000</td>\n",
              "      <td>50.000000</td>\n",
              "      <td>10.000000</td>\n",
              "      <td>3684.000000</td>\n",
              "      <td>3.900000</td>\n",
              "      <td>5.840000</td>\n",
              "      <td>1.970000</td>\n",
              "    </tr>\n",
              "    <tr>\n",
              "      <th>50%</th>\n",
              "      <td>27.000000</td>\n",
              "      <td>250.000000</td>\n",
              "      <td>350.000000</td>\n",
              "      <td>1.500000</td>\n",
              "      <td>125.000000</td>\n",
              "      <td>125.000000</td>\n",
              "      <td>15.000000</td>\n",
              "      <td>4390.000000</td>\n",
              "      <td>8.300000</td>\n",
              "      <td>6.410000</td>\n",
              "      <td>2.100000</td>\n",
              "    </tr>\n",
              "    <tr>\n",
              "      <th>75%</th>\n",
              "      <td>40.000000</td>\n",
              "      <td>300.000000</td>\n",
              "      <td>400.000000</td>\n",
              "      <td>1.800000</td>\n",
              "      <td>150.000000</td>\n",
              "      <td>200.000000</td>\n",
              "      <td>20.000000</td>\n",
              "      <td>4703.000000</td>\n",
              "      <td>15.100000</td>\n",
              "      <td>7.720000</td>\n",
              "      <td>2.310000</td>\n",
              "    </tr>\n",
              "    <tr>\n",
              "      <th>max</th>\n",
              "      <td>53.000000</td>\n",
              "      <td>369.000000</td>\n",
              "      <td>469.000000</td>\n",
              "      <td>2.200000</td>\n",
              "      <td>184.000000</td>\n",
              "      <td>200.000000</td>\n",
              "      <td>27.000000</td>\n",
              "      <td>5515.000000</td>\n",
              "      <td>55.200000</td>\n",
              "      <td>15.150000</td>\n",
              "      <td>4.170000</td>\n",
              "    </tr>\n",
              "  </tbody>\n",
              "</table>\n",
              "</div>\n",
              "      <button class=\"colab-df-convert\" onclick=\"convertToInteractive('df-4a508d0e-e410-4737-b2ac-b633f279fe3f')\"\n",
              "              title=\"Convert this dataframe to an interactive table.\"\n",
              "              style=\"display:none;\">\n",
              "        \n",
              "  <svg xmlns=\"http://www.w3.org/2000/svg\" height=\"24px\"viewBox=\"0 0 24 24\"\n",
              "       width=\"24px\">\n",
              "    <path d=\"M0 0h24v24H0V0z\" fill=\"none\"/>\n",
              "    <path d=\"M18.56 5.44l.94 2.06.94-2.06 2.06-.94-2.06-.94-.94-2.06-.94 2.06-2.06.94zm-11 1L8.5 8.5l.94-2.06 2.06-.94-2.06-.94L8.5 2.5l-.94 2.06-2.06.94zm10 10l.94 2.06.94-2.06 2.06-.94-2.06-.94-.94-2.06-.94 2.06-2.06.94z\"/><path d=\"M17.41 7.96l-1.37-1.37c-.4-.4-.92-.59-1.43-.59-.52 0-1.04.2-1.43.59L10.3 9.45l-7.72 7.72c-.78.78-.78 2.05 0 2.83L4 21.41c.39.39.9.59 1.41.59.51 0 1.02-.2 1.41-.59l7.78-7.78 2.81-2.81c.8-.78.8-2.07 0-2.86zM5.41 20L4 18.59l7.72-7.72 1.47 1.35L5.41 20z\"/>\n",
              "  </svg>\n",
              "      </button>\n",
              "      \n",
              "  <style>\n",
              "    .colab-df-container {\n",
              "      display:flex;\n",
              "      flex-wrap:wrap;\n",
              "      gap: 12px;\n",
              "    }\n",
              "\n",
              "    .colab-df-convert {\n",
              "      background-color: #E8F0FE;\n",
              "      border: none;\n",
              "      border-radius: 50%;\n",
              "      cursor: pointer;\n",
              "      display: none;\n",
              "      fill: #1967D2;\n",
              "      height: 32px;\n",
              "      padding: 0 0 0 0;\n",
              "      width: 32px;\n",
              "    }\n",
              "\n",
              "    .colab-df-convert:hover {\n",
              "      background-color: #E2EBFA;\n",
              "      box-shadow: 0px 1px 2px rgba(60, 64, 67, 0.3), 0px 1px 3px 1px rgba(60, 64, 67, 0.15);\n",
              "      fill: #174EA6;\n",
              "    }\n",
              "\n",
              "    [theme=dark] .colab-df-convert {\n",
              "      background-color: #3B4455;\n",
              "      fill: #D2E3FC;\n",
              "    }\n",
              "\n",
              "    [theme=dark] .colab-df-convert:hover {\n",
              "      background-color: #434B5C;\n",
              "      box-shadow: 0px 1px 3px 1px rgba(0, 0, 0, 0.15);\n",
              "      filter: drop-shadow(0px 1px 2px rgba(0, 0, 0, 0.3));\n",
              "      fill: #FFFFFF;\n",
              "    }\n",
              "  </style>\n",
              "\n",
              "      <script>\n",
              "        const buttonEl =\n",
              "          document.querySelector('#df-4a508d0e-e410-4737-b2ac-b633f279fe3f button.colab-df-convert');\n",
              "        buttonEl.style.display =\n",
              "          google.colab.kernel.accessAllowed ? 'block' : 'none';\n",
              "\n",
              "        async function convertToInteractive(key) {\n",
              "          const element = document.querySelector('#df-4a508d0e-e410-4737-b2ac-b633f279fe3f');\n",
              "          const dataTable =\n",
              "            await google.colab.kernel.invokeFunction('convertToInteractive',\n",
              "                                                     [key], {});\n",
              "          if (!dataTable) return;\n",
              "\n",
              "          const docLinkHtml = 'Like what you see? Visit the ' +\n",
              "            '<a target=\"_blank\" href=https://colab.research.google.com/notebooks/data_table.ipynb>data table notebook</a>'\n",
              "            + ' to learn more about interactive tables.';\n",
              "          element.innerHTML = '';\n",
              "          dataTable['output_type'] = 'display_data';\n",
              "          await google.colab.output.renderOutput(dataTable, element);\n",
              "          const docLink = document.createElement('div');\n",
              "          docLink.innerHTML = docLinkHtml;\n",
              "          element.appendChild(docLink);\n",
              "        }\n",
              "      </script>\n",
              "    </div>\n",
              "  </div>\n",
              "  "
            ]
          },
          "metadata": {},
          "execution_count": 7
        }
      ]
    },
    {
      "cell_type": "code",
      "source": [
        "# view summary of dataset\n",
        "\n",
        "df.info()"
      ],
      "metadata": {
        "colab": {
          "base_uri": "https://localhost:8080/"
        },
        "id": "eIiMoACYv4AY",
        "outputId": "bdc36070-9e4a-4ded-e4ff-df59ba43f379"
      },
      "execution_count": null,
      "outputs": [
        {
          "output_type": "stream",
          "name": "stdout",
          "text": [
            "<class 'pandas.core.frame.DataFrame'>\n",
            "RangeIndex: 53 entries, 0 to 52\n",
            "Data columns (total 11 columns):\n",
            " #   Column                   Non-Null Count  Dtype  \n",
            "---  ------                   --------------  -----  \n",
            " 0   run                      53 non-null     int64  \n",
            " 1   pressure                 53 non-null     int64  \n",
            " 2   rf_power                 53 non-null     int64  \n",
            " 3   electrode_gap            53 non-null     float64\n",
            " 4   cci_flow                 53 non-null     int64  \n",
            " 5   he_flow                  53 non-null     int64  \n",
            " 6   o2_flow                  53 non-null     int64  \n",
            " 7   etch_rate                53 non-null     int64  \n",
            " 8   etch_uniformity          53 non-null     float64\n",
            " 9   oxide_selectivity        53 non-null     float64\n",
            " 10  photoresist_selectivity  53 non-null     float64\n",
            "dtypes: float64(4), int64(7)\n",
            "memory usage: 4.7 KB\n"
          ]
        }
      ]
    },
    {
      "cell_type": "code",
      "source": [
        "df.drop(['run'], axis = 1, inplace = True)\n",
        "df.head()"
      ],
      "metadata": {
        "colab": {
          "base_uri": "https://localhost:8080/",
          "height": 206
        },
        "id": "GcScjrKUNdDa",
        "outputId": "0eb1f1d3-38fb-4147-9405-dd1a033e39c7"
      },
      "execution_count": null,
      "outputs": [
        {
          "output_type": "execute_result",
          "data": {
            "text/plain": [
              "   pressure  rf_power  electrode_gap  cci_flow  he_flow  o2_flow  etch_rate  \\\n",
              "0       300       300            1.8       100      200       20       3491   \n",
              "1       200       400            1.8       100       50       10       3884   \n",
              "2       200       400            1.2       150      200       20       4931   \n",
              "3       300       400            1.8       150      200       20       4726   \n",
              "4       200       400            1.2       150       50       10       5089   \n",
              "\n",
              "   etch_uniformity  oxide_selectivity  photoresist_selectivity  \n",
              "0             14.2               6.48                     2.01  \n",
              "1              3.9               5.98                     1.91  \n",
              "2             24.8               5.39                     1.85  \n",
              "3              6.6               5.97                     2.11  \n",
              "4             12.4               5.61                     2.16  "
            ],
            "text/html": [
              "\n",
              "  <div id=\"df-dabfea40-040b-43c1-96b4-743354e81126\">\n",
              "    <div class=\"colab-df-container\">\n",
              "      <div>\n",
              "<style scoped>\n",
              "    .dataframe tbody tr th:only-of-type {\n",
              "        vertical-align: middle;\n",
              "    }\n",
              "\n",
              "    .dataframe tbody tr th {\n",
              "        vertical-align: top;\n",
              "    }\n",
              "\n",
              "    .dataframe thead th {\n",
              "        text-align: right;\n",
              "    }\n",
              "</style>\n",
              "<table border=\"1\" class=\"dataframe\">\n",
              "  <thead>\n",
              "    <tr style=\"text-align: right;\">\n",
              "      <th></th>\n",
              "      <th>pressure</th>\n",
              "      <th>rf_power</th>\n",
              "      <th>electrode_gap</th>\n",
              "      <th>cci_flow</th>\n",
              "      <th>he_flow</th>\n",
              "      <th>o2_flow</th>\n",
              "      <th>etch_rate</th>\n",
              "      <th>etch_uniformity</th>\n",
              "      <th>oxide_selectivity</th>\n",
              "      <th>photoresist_selectivity</th>\n",
              "    </tr>\n",
              "  </thead>\n",
              "  <tbody>\n",
              "    <tr>\n",
              "      <th>0</th>\n",
              "      <td>300</td>\n",
              "      <td>300</td>\n",
              "      <td>1.8</td>\n",
              "      <td>100</td>\n",
              "      <td>200</td>\n",
              "      <td>20</td>\n",
              "      <td>3491</td>\n",
              "      <td>14.2</td>\n",
              "      <td>6.48</td>\n",
              "      <td>2.01</td>\n",
              "    </tr>\n",
              "    <tr>\n",
              "      <th>1</th>\n",
              "      <td>200</td>\n",
              "      <td>400</td>\n",
              "      <td>1.8</td>\n",
              "      <td>100</td>\n",
              "      <td>50</td>\n",
              "      <td>10</td>\n",
              "      <td>3884</td>\n",
              "      <td>3.9</td>\n",
              "      <td>5.98</td>\n",
              "      <td>1.91</td>\n",
              "    </tr>\n",
              "    <tr>\n",
              "      <th>2</th>\n",
              "      <td>200</td>\n",
              "      <td>400</td>\n",
              "      <td>1.2</td>\n",
              "      <td>150</td>\n",
              "      <td>200</td>\n",
              "      <td>20</td>\n",
              "      <td>4931</td>\n",
              "      <td>24.8</td>\n",
              "      <td>5.39</td>\n",
              "      <td>1.85</td>\n",
              "    </tr>\n",
              "    <tr>\n",
              "      <th>3</th>\n",
              "      <td>300</td>\n",
              "      <td>400</td>\n",
              "      <td>1.8</td>\n",
              "      <td>150</td>\n",
              "      <td>200</td>\n",
              "      <td>20</td>\n",
              "      <td>4726</td>\n",
              "      <td>6.6</td>\n",
              "      <td>5.97</td>\n",
              "      <td>2.11</td>\n",
              "    </tr>\n",
              "    <tr>\n",
              "      <th>4</th>\n",
              "      <td>200</td>\n",
              "      <td>400</td>\n",
              "      <td>1.2</td>\n",
              "      <td>150</td>\n",
              "      <td>50</td>\n",
              "      <td>10</td>\n",
              "      <td>5089</td>\n",
              "      <td>12.4</td>\n",
              "      <td>5.61</td>\n",
              "      <td>2.16</td>\n",
              "    </tr>\n",
              "  </tbody>\n",
              "</table>\n",
              "</div>\n",
              "      <button class=\"colab-df-convert\" onclick=\"convertToInteractive('df-dabfea40-040b-43c1-96b4-743354e81126')\"\n",
              "              title=\"Convert this dataframe to an interactive table.\"\n",
              "              style=\"display:none;\">\n",
              "        \n",
              "  <svg xmlns=\"http://www.w3.org/2000/svg\" height=\"24px\"viewBox=\"0 0 24 24\"\n",
              "       width=\"24px\">\n",
              "    <path d=\"M0 0h24v24H0V0z\" fill=\"none\"/>\n",
              "    <path d=\"M18.56 5.44l.94 2.06.94-2.06 2.06-.94-2.06-.94-.94-2.06-.94 2.06-2.06.94zm-11 1L8.5 8.5l.94-2.06 2.06-.94-2.06-.94L8.5 2.5l-.94 2.06-2.06.94zm10 10l.94 2.06.94-2.06 2.06-.94-2.06-.94-.94-2.06-.94 2.06-2.06.94z\"/><path d=\"M17.41 7.96l-1.37-1.37c-.4-.4-.92-.59-1.43-.59-.52 0-1.04.2-1.43.59L10.3 9.45l-7.72 7.72c-.78.78-.78 2.05 0 2.83L4 21.41c.39.39.9.59 1.41.59.51 0 1.02-.2 1.41-.59l7.78-7.78 2.81-2.81c.8-.78.8-2.07 0-2.86zM5.41 20L4 18.59l7.72-7.72 1.47 1.35L5.41 20z\"/>\n",
              "  </svg>\n",
              "      </button>\n",
              "      \n",
              "  <style>\n",
              "    .colab-df-container {\n",
              "      display:flex;\n",
              "      flex-wrap:wrap;\n",
              "      gap: 12px;\n",
              "    }\n",
              "\n",
              "    .colab-df-convert {\n",
              "      background-color: #E8F0FE;\n",
              "      border: none;\n",
              "      border-radius: 50%;\n",
              "      cursor: pointer;\n",
              "      display: none;\n",
              "      fill: #1967D2;\n",
              "      height: 32px;\n",
              "      padding: 0 0 0 0;\n",
              "      width: 32px;\n",
              "    }\n",
              "\n",
              "    .colab-df-convert:hover {\n",
              "      background-color: #E2EBFA;\n",
              "      box-shadow: 0px 1px 2px rgba(60, 64, 67, 0.3), 0px 1px 3px 1px rgba(60, 64, 67, 0.15);\n",
              "      fill: #174EA6;\n",
              "    }\n",
              "\n",
              "    [theme=dark] .colab-df-convert {\n",
              "      background-color: #3B4455;\n",
              "      fill: #D2E3FC;\n",
              "    }\n",
              "\n",
              "    [theme=dark] .colab-df-convert:hover {\n",
              "      background-color: #434B5C;\n",
              "      box-shadow: 0px 1px 3px 1px rgba(0, 0, 0, 0.15);\n",
              "      filter: drop-shadow(0px 1px 2px rgba(0, 0, 0, 0.3));\n",
              "      fill: #FFFFFF;\n",
              "    }\n",
              "  </style>\n",
              "\n",
              "      <script>\n",
              "        const buttonEl =\n",
              "          document.querySelector('#df-dabfea40-040b-43c1-96b4-743354e81126 button.colab-df-convert');\n",
              "        buttonEl.style.display =\n",
              "          google.colab.kernel.accessAllowed ? 'block' : 'none';\n",
              "\n",
              "        async function convertToInteractive(key) {\n",
              "          const element = document.querySelector('#df-dabfea40-040b-43c1-96b4-743354e81126');\n",
              "          const dataTable =\n",
              "            await google.colab.kernel.invokeFunction('convertToInteractive',\n",
              "                                                     [key], {});\n",
              "          if (!dataTable) return;\n",
              "\n",
              "          const docLinkHtml = 'Like what you see? Visit the ' +\n",
              "            '<a target=\"_blank\" href=https://colab.research.google.com/notebooks/data_table.ipynb>data table notebook</a>'\n",
              "            + ' to learn more about interactive tables.';\n",
              "          element.innerHTML = '';\n",
              "          dataTable['output_type'] = 'display_data';\n",
              "          await google.colab.output.renderOutput(dataTable, element);\n",
              "          const docLink = document.createElement('div');\n",
              "          docLink.innerHTML = docLinkHtml;\n",
              "          element.appendChild(docLink);\n",
              "        }\n",
              "      </script>\n",
              "    </div>\n",
              "  </div>\n",
              "  "
            ]
          },
          "metadata": {},
          "execution_count": 8
        }
      ]
    },
    {
      "cell_type": "markdown",
      "source": [
        "We can see that there are no missing values in the dataset and all the variables are numerical variables."
      ],
      "metadata": {
        "id": "HJ4IY3cqFaXM"
      }
    },
    {
      "cell_type": "markdown",
      "source": [
        "We can also plot a heat map to understand how each feature correlates to the other (Do they go hand in hand or are they inversely propotional)"
      ],
      "metadata": {
        "id": "GzxiQwqBNX4F"
      }
    },
    {
      "cell_type": "code",
      "source": [
        "import seaborn as sn\n",
        "f= plt.subplots(figsize=(10,10))\n",
        "sn.heatmap(df.corr(),annot=True,fmt='.1f',color='green')  #We can use a simple seaborn method to draw the heatmaps"
      ],
      "metadata": {
        "colab": {
          "base_uri": "https://localhost:8080/",
          "height": 728
        },
        "id": "JtkN4kvGNRqy",
        "outputId": "129db5dc-421a-4128-9900-5966ba8658d0"
      },
      "execution_count": null,
      "outputs": [
        {
          "output_type": "execute_result",
          "data": {
            "text/plain": [
              "<matplotlib.axes._subplots.AxesSubplot at 0x7f970d013090>"
            ]
          },
          "metadata": {},
          "execution_count": 10
        },
        {
          "output_type": "display_data",
          "data": {
            "text/plain": [
              "<Figure size 720x720 with 2 Axes>"
            ],
            "image/png": "[encoded data removed]"
          },
          "metadata": {}
        }
      ]
    },
    {
      "cell_type": "markdown",
      "source": [
        "As we see in the above heatmap, most of the features are high related with one of the output targets which is etch_rate. Two of the targets, oxide_selectivity and photoresist_selectrivity are highly correlated. For pressure as a preditor variable, the most correlations are 0.4 and 0.3 with two of the targets,oxide_selectivity and photoresist_selectrivity, respectively. rf_power has the most correlation of 0.6 with etch_rate. he_flow has three most high correlation of -0.6, -0.5, 0.5, and -0.4 with oxide_selectivity, photoresist_selectrivity, etch_uniformity, and etch_rate, respectively. Tere are also highly correlations between target variables. I cannot say if these high correlations between predictors and targets are good for our study or not."
      ],
      "metadata": {
        "id": "TBPTsIDHx0En"
      }
    },
    {
      "cell_type": "markdown",
      "source": [
        "**Declare feature vector and target variable**"
      ],
      "metadata": {
        "id": "9vCsYm8D4A4w"
      }
    },
    {
      "cell_type": "code",
      "source": [
        "#Split data into training and test sets\n",
        "#Train dataset:\n",
        "df2 = df.copy()\n",
        "df2_x = df.sample(frac=0.8, random_state=0)\n",
        "df2_y = df2_x[['etch_rate','etch_uniformity','oxide_selectivity','photoresist_selectivity']]\n",
        "df2_x.drop(['etch_rate','etch_uniformity','oxide_selectivity','photoresist_selectivity'], axis = 1, inplace = True)\n",
        "print(df2_x.shape, df2_y.shape)"
      ],
      "metadata": {
        "colab": {
          "base_uri": "https://localhost:8080/"
        },
        "id": "G8oScbrXCflo",
        "outputId": "3182409d-058a-4697-ae61-83653cda180f"
      },
      "execution_count": null,
      "outputs": [
        {
          "output_type": "stream",
          "name": "stdout",
          "text": [
            "(42, 6) (42, 4)\n"
          ]
        }
      ]
    },
    {
      "cell_type": "code",
      "source": [
        "#Test dataset:\n",
        "df2_x_test = df.drop(df2_x.index)\n",
        "df2_y_test = df2_x_test[['etch_rate','etch_uniformity','oxide_selectivity','photoresist_selectivity']]\n",
        "df2_x_test.drop(['etch_rate','etch_uniformity','oxide_selectivity','photoresist_selectivity'], axis = 1, inplace = True)\n",
        "print(df2_x_test.shape, df2_y_test.shape)"
      ],
      "metadata": {
        "colab": {
          "base_uri": "https://localhost:8080/"
        },
        "id": "4e8YElupEfkA",
        "outputId": "d243cbdc-8e21-4596-82ee-e6678758a7a3"
      },
      "execution_count": null,
      "outputs": [
        {
          "output_type": "stream",
          "name": "stdout",
          "text": [
            "(11, 6) (11, 4)\n"
          ]
        }
      ]
    },
    {
      "cell_type": "markdown",
      "source": [
        "**Summary of numerical variables**\n",
        "\n",
        "Train dataset has 42 numerical datapoints.\n",
        "\n",
        "Train dataset has 11 numerical datapoints.\n",
        "\n",
        "y variables are target variables. \n",
        "\n",
        "There are no missing values in the dataset."
      ],
      "metadata": {
        "id": "m_SftOGRwx79"
      }
    },
    {
      "cell_type": "markdown",
      "source": [
        "**Outliers:**\n",
        "\n",
        "On closer inspection, we can suspect that all the continuous variables may contain outliers. I will draw boxplots to visualise outliers in the above variables."
      ],
      "metadata": {
        "id": "9oKJJg0Jxh5i"
      }
    },
    {
      "cell_type": "code",
      "source": [
        "# draw boxplots to visualize outliers\n",
        "\n",
        "plt.figure(figsize=(20,15))\n",
        "\n",
        "\n",
        "plt.subplot(5, 2, 1)\n",
        "fig = df2_x.boxplot(column='pressure')\n",
        "fig.set_title('')\n",
        "fig.set_ylabel('pressure')\n",
        "\n",
        "\n",
        "plt.subplot(5, 2, 2)\n",
        "fig = df2_x.boxplot(column='rf_power')\n",
        "fig.set_title('')\n",
        "fig.set_ylabel('rf_power')\n",
        "\n",
        "\n",
        "plt.subplot(5, 2, 3)\n",
        "fig = df2_x.boxplot(column='electrode_gap')\n",
        "fig.set_title('')\n",
        "fig.set_ylabel('electrode_gap')\n",
        "\n",
        "\n",
        "plt.subplot(5, 2, 4)\n",
        "fig = df2_x.boxplot(column='cci_flow')\n",
        "fig.set_title('')\n",
        "fig.set_ylabel('cci_flow')\n",
        "\n",
        "\n",
        "plt.subplot(5, 2, 5)\n",
        "fig = df2_x.boxplot(column='he_flow')\n",
        "fig.set_title('')\n",
        "fig.set_ylabel('he_flow')\n",
        "\n",
        "\n",
        "plt.subplot(5, 2, 6)\n",
        "fig = df2_x.boxplot(column='o2_flow')\n",
        "fig.set_title('')\n",
        "fig.set_ylabel('o2_flow')\n",
        "\n",
        "\n",
        "plt.subplot(5, 2, 7)\n",
        "fig = df2_y.boxplot(column='etch_rate')\n",
        "fig.set_title('')\n",
        "fig.set_ylabel('etch_rate')\n",
        "\n",
        "\n",
        "plt.subplot(5, 2, 8)\n",
        "fig =df2_y.boxplot(column='etch_uniformity')\n",
        "fig.set_title('')\n",
        "fig.set_ylabel('etch_uniformity')\n",
        "\n",
        "plt.subplot(5, 2, 9)\n",
        "fig = df2_y.boxplot(column='oxide_selectivity')\n",
        "fig.set_title('')\n",
        "fig.set_ylabel('oxide_selectivity')\n",
        "\n",
        "plt.subplot(5, 2, 10)\n",
        "fig = df2_y.boxplot(column='photoresist_selectivity')\n",
        "fig.set_title('')\n",
        "fig.set_ylabel('photoresist_selectivity')\n"
      ],
      "metadata": {
        "colab": {
          "base_uri": "https://localhost:8080/",
          "height": 883
        },
        "id": "541G__XMwml6",
        "outputId": "db481c6e-bc1e-466f-aa57-5e278e9a54e6"
      },
      "execution_count": null,
      "outputs": [
        {
          "output_type": "execute_result",
          "data": {
            "text/plain": [
              "Text(0, 0.5, 'photoresist_selectivity')"
            ]
          },
          "metadata": {},
          "execution_count": 33
        },
        {
          "output_type": "display_data",
          "data": {
            "text/plain": [
              "<Figure size 1440x1080 with 10 Axes>"
            ],
            "image/png": "[encoded data removed]"
          },
          "metadata": {
            "needs_background": "light"
          }
        }
      ]
    },
    {
      "cell_type": "markdown",
      "source": [
        "The above boxplots confirm that there are no outliers in train input variables but there are outliers in train output variables including etch_uniformity, oxide_selectivity, and photoresist_selectivity. Also, most of the variables have a skewed distribution not normal distribution. When we see skeweness, it means we need to do normalizatyion to bring all values of a column closer to each other by subtracting min value or mean value. Also, when different variables have different values, it means a column is more weighted compared to other. There, we need to do normalization, as well.\n",
        "\n",
        "In this link, boxplots are clearly explained:\n",
        "\n",
        "(https://simplypsychology.org/boxplots.html)\n"
      ],
      "metadata": {
        "id": "-fvbwOgP0DYD"
      }
    },
    {
      "cell_type": "code",
      "source": [
        "# draw boxplots to visualize outliers\n",
        "\n",
        "plt.figure(figsize=(20,15))\n",
        "\n",
        "\n",
        "plt.subplot(5, 2, 1)\n",
        "fig = df2_x_test.boxplot(column='pressure')\n",
        "fig.set_title('')\n",
        "fig.set_ylabel('pressure')\n",
        "\n",
        "\n",
        "plt.subplot(5, 2, 2)\n",
        "fig = df2_x_test.boxplot(column='rf_power')\n",
        "fig.set_title('')\n",
        "fig.set_ylabel('rf_power')\n",
        "\n",
        "\n",
        "plt.subplot(5, 2, 3)\n",
        "fig = df2_x_test.boxplot(column='electrode_gap')\n",
        "fig.set_title('')\n",
        "fig.set_ylabel('electrode_gap')\n",
        "\n",
        "\n",
        "plt.subplot(5, 2, 4)\n",
        "fig = df2_x_test.boxplot(column='cci_flow')\n",
        "fig.set_title('')\n",
        "fig.set_ylabel('cci_flow')\n",
        "\n",
        "\n",
        "plt.subplot(5, 2, 5)\n",
        "fig = df2_x_test.boxplot(column='he_flow')\n",
        "fig.set_title('')\n",
        "fig.set_ylabel('he_flow')\n",
        "\n",
        "\n",
        "plt.subplot(5, 2, 6)\n",
        "fig = df2_x_test.boxplot(column='o2_flow')\n",
        "fig.set_title('')\n",
        "fig.set_ylabel('o2_flow')\n",
        "\n",
        "\n",
        "plt.subplot(5, 2, 7)\n",
        "fig = df2_y_test.boxplot(column='etch_rate')\n",
        "fig.set_title('')\n",
        "fig.set_ylabel('etch_rate')\n",
        "\n",
        "\n",
        "plt.subplot(5, 2, 8)\n",
        "fig =df2_y_test.boxplot(column='etch_uniformity')\n",
        "fig.set_title('')\n",
        "fig.set_ylabel('etch_uniformity')\n",
        "\n",
        "plt.subplot(5, 2, 9)\n",
        "fig = df2_y_test.boxplot(column='oxide_selectivity')\n",
        "fig.set_title('')\n",
        "fig.set_ylabel('oxide_selectivity')\n",
        "\n",
        "plt.subplot(5, 2, 10)\n",
        "fig = df2_y_test.boxplot(column='photoresist_selectivity')\n",
        "fig.set_title('')\n",
        "fig.set_ylabel('photoresist_selectivity')"
      ],
      "metadata": {
        "colab": {
          "base_uri": "https://localhost:8080/",
          "height": 883
        },
        "id": "TMAySMZxHw4P",
        "outputId": "79282b1a-19e8-4266-afb7-f26380860ac7"
      },
      "execution_count": null,
      "outputs": [
        {
          "output_type": "execute_result",
          "data": {
            "text/plain": [
              "Text(0, 0.5, 'photoresist_selectivity')"
            ]
          },
          "metadata": {},
          "execution_count": 34
        },
        {
          "output_type": "display_data",
          "data": {
            "text/plain": [
              "<Figure size 1440x1080 with 10 Axes>"
            ],
            "image/png": "[encoded data removed]"
          },
          "metadata": {
            "needs_background": "light"
          }
        }
      ]
    },
    {
      "cell_type": "markdown",
      "source": [
        "The above boxplots confirm that there are no outliers in train input variables but there are outliers in train output variables including etch_uniformity, and photoresist_selectivity. Also, most of the variables have a skewed distribution not normal distribution."
      ],
      "metadata": {
        "id": "QpkV2zR9Ld97"
      }
    },
    {
      "cell_type": "markdown",
      "source": [
        "**Check the distribution of variables**\n",
        "\n",
        "Now, I will plot the histograms to check distributions to find out if they are normal or skewed."
      ],
      "metadata": {
        "id": "J70JrIos7tWY"
      }
    },
    {
      "cell_type": "code",
      "source": [
        "sns.pairplot(df2_x[['pressure', 'rf_power', 'electrode_gap', 'cci_flow', 'he_flow', 'o2_flow']])"
      ],
      "metadata": {
        "colab": {
          "base_uri": "https://localhost:8080/",
          "height": 1000
        },
        "id": "5mBkqaMF-dMX",
        "outputId": "f8e5cd79-baad-4dba-f8b6-8e50ac096b23"
      },
      "execution_count": null,
      "outputs": [
        {
          "output_type": "execute_result",
          "data": {
            "text/plain": [
              "<seaborn.axisgrid.PairGrid at 0x7fbb54694cd0>"
            ]
          },
          "metadata": {},
          "execution_count": 35
        },
        {
          "output_type": "display_data",
          "data": {
            "text/plain": [
              "<Figure size 1080x1080 with 42 Axes>"
            ],
            "image/png": "[encoded data removed]"
          },
          "metadata": {
            "needs_background": "light"
          }
        }
      ]
    },
    {
      "cell_type": "markdown",
      "source": [
        "We can see that this figure confirms the result that we got in previous section that most of the input variables are skewed."
      ],
      "metadata": {
        "id": "br1i2V8kCy8z"
      }
    },
    {
      "cell_type": "markdown",
      "source": [
        "**Check the distribution of variables**\n",
        "\n",
        "Now, I will plot the histograms to check distributions to find out if they are normal or skewed."
      ],
      "metadata": {
        "id": "A3bPp1JnJuQf"
      }
    },
    {
      "cell_type": "code",
      "source": [
        "# plot histogram to check distribution\n",
        "\n",
        "df.hist(figsize=(10,12),bins = 15)\n",
        "plt.title(\"Features Distribution\")\n",
        "plt.show()"
      ],
      "metadata": {
        "colab": {
          "base_uri": "https://localhost:8080/",
          "height": 718
        },
        "id": "RKvQhD4zJZPn",
        "outputId": "cd2e4419-7489-4260-fc20-18eafb7f8bb0"
      },
      "execution_count": null,
      "outputs": [
        {
          "output_type": "display_data",
          "data": {
            "text/plain": [
              "<Figure size 720x864 with 12 Axes>"
            ],
            "image/png": "[encoded data removed]"
          },
          "metadata": {}
        }
      ]
    },
    {
      "cell_type": "markdown",
      "source": [
        "We can see that some of the predictor variables and all the target variables are skewed."
      ],
      "metadata": {
        "id": "c65hR87-FTVC"
      }
    },
    {
      "cell_type": "markdown",
      "source": [
        "**Feature Scaling**\n",
        "\n",
        "A standardization is scaling features to lie between a given minimum and maximum value, often between zero and one, or so that the maximum absolute value of each feature is scaled to unit size. This can be achieved using MinMaxScaler or MaxAbsScaler, respectively.\n",
        "\n",
        "The motivation to use this scaling include robustness to very small standard deviations of features and preserving zero entries in sparse data.\n",
        "\n",
        "Here is an example to scale a iris data matrix to the [0, 1] range:"
      ],
      "metadata": {
        "id": "YLr_KkrZJ3mX"
      }
    },
    {
      "cell_type": "code",
      "source": [
        "cols = df2_x.columns"
      ],
      "metadata": {
        "id": "o8XErRtG7s72"
      },
      "execution_count": null,
      "outputs": []
    },
    {
      "cell_type": "code",
      "source": [
        "from sklearn import preprocessing\n",
        "from sklearn.preprocessing import MinMaxScaler"
      ],
      "metadata": {
        "id": "1ge20A0OKMj_"
      },
      "execution_count": null,
      "outputs": []
    },
    {
      "cell_type": "code",
      "source": [
        "scaler = preprocessing.MinMaxScaler()\n",
        "X_train = scaler.fit_transform(df2_x) #fit means training the model which is done on training data, by using this line df2_x will be an array not a dataframe\n",
        "X_train.dtype"
      ],
      "metadata": {
        "colab": {
          "base_uri": "https://localhost:8080/"
        },
        "id": "1PJBgkuBMBGJ",
        "outputId": "8c504047-a6cb-4558-fb6f-12370657e2e9"
      },
      "execution_count": null,
      "outputs": [
        {
          "output_type": "execute_result",
          "data": {
            "text/plain": [
              "dtype('float64')"
            ]
          },
          "metadata": {},
          "execution_count": 13
        }
      ]
    },
    {
      "cell_type": "markdown",
      "source": [
        "The same instance of the transformer can then be applied to some new test data unseen during the fit call: the same scaling and shifting operations will be applied to be consistent with the transformation performed on the train data:"
      ],
      "metadata": {
        "id": "_edftN5LMIJY"
      }
    },
    {
      "cell_type": "code",
      "source": [
        "X_test = scaler.transform(df2_x_test) #The output is an array\n",
        "X_test\n",
        "X_test.dtype"
      ],
      "metadata": {
        "colab": {
          "base_uri": "https://localhost:8080/"
        },
        "id": "NY4R805QLrb1",
        "outputId": "70f8f46e-7f37-498d-c2b8-bc057d79cea0"
      },
      "execution_count": null,
      "outputs": [
        {
          "output_type": "execute_result",
          "data": {
            "text/plain": [
              "dtype('float64')"
            ]
          },
          "metadata": {},
          "execution_count": 14
        }
      ]
    },
    {
      "cell_type": "code",
      "source": [
        "X_train = pd.DataFrame(X_train, columns=[cols]) #Convert numpy array to dataframe, we do this since we want to add this dataframe to the other dataframe and make a new dataframe"
      ],
      "metadata": {
        "id": "2pQGme9-74jX"
      },
      "execution_count": null,
      "outputs": []
    },
    {
      "cell_type": "code",
      "source": [
        "X_train.describe()"
      ],
      "metadata": {
        "colab": {
          "base_uri": "https://localhost:8080/",
          "height": 300
        },
        "id": "ILv9ypkLl0qS",
        "outputId": "6d1cf80d-0a36-46b9-bd2b-41e4eafc3054"
      },
      "execution_count": null,
      "outputs": [
        {
          "output_type": "execute_result",
          "data": {
            "text/plain": [
              "        pressure   rf_power electrode_gap   cci_flow    he_flow    o2_flow\n",
              "count  42.000000  42.000000     42.000000  42.000000  42.000000  42.000000\n",
              "mean    0.476190   0.298535      0.500000   0.507937   0.619048   0.480159\n",
              "std     0.397437   0.259988      0.203259   0.199304   0.319528   0.198282\n",
              "min     0.000000   0.000000      0.000000   0.000000   0.000000   0.000000\n",
              "25%     0.000000   0.000000      0.285714   0.300000   0.250000   0.291667\n",
              "50%     0.500000   0.295858      0.500000   0.508333   0.625000   0.500000\n",
              "75%     1.000000   0.591716      0.714286   0.716667   1.000000   0.708333\n",
              "max     1.000000   1.000000      1.000000   1.000000   1.000000   1.000000"
            ],
            "text/html": [
              "\n",
              "  <div id=\"df-01007ca2-1b17-4f59-9938-a4bd8b31bb92\">\n",
              "    <div class=\"colab-df-container\">\n",
              "      <div>\n",
              "<style scoped>\n",
              "    .dataframe tbody tr th:only-of-type {\n",
              "        vertical-align: middle;\n",
              "    }\n",
              "\n",
              "    .dataframe tbody tr th {\n",
              "        vertical-align: top;\n",
              "    }\n",
              "\n",
              "    .dataframe thead tr th {\n",
              "        text-align: left;\n",
              "    }\n",
              "</style>\n",
              "<table border=\"1\" class=\"dataframe\">\n",
              "  <thead>\n",
              "    <tr>\n",
              "      <th></th>\n",
              "      <th>pressure</th>\n",
              "      <th>rf_power</th>\n",
              "      <th>electrode_gap</th>\n",
              "      <th>cci_flow</th>\n",
              "      <th>he_flow</th>\n",
              "      <th>o2_flow</th>\n",
              "    </tr>\n",
              "  </thead>\n",
              "  <tbody>\n",
              "    <tr>\n",
              "      <th>count</th>\n",
              "      <td>42.000000</td>\n",
              "      <td>42.000000</td>\n",
              "      <td>42.000000</td>\n",
              "      <td>42.000000</td>\n",
              "      <td>42.000000</td>\n",
              "      <td>42.000000</td>\n",
              "    </tr>\n",
              "    <tr>\n",
              "      <th>mean</th>\n",
              "      <td>0.476190</td>\n",
              "      <td>0.298535</td>\n",
              "      <td>0.500000</td>\n",
              "      <td>0.507937</td>\n",
              "      <td>0.619048</td>\n",
              "      <td>0.480159</td>\n",
              "    </tr>\n",
              "    <tr>\n",
              "      <th>std</th>\n",
              "      <td>0.397437</td>\n",
              "      <td>0.259988</td>\n",
              "      <td>0.203259</td>\n",
              "      <td>0.199304</td>\n",
              "      <td>0.319528</td>\n",
              "      <td>0.198282</td>\n",
              "    </tr>\n",
              "    <tr>\n",
              "      <th>min</th>\n",
              "      <td>0.000000</td>\n",
              "      <td>0.000000</td>\n",
              "      <td>0.000000</td>\n",
              "      <td>0.000000</td>\n",
              "      <td>0.000000</td>\n",
              "      <td>0.000000</td>\n",
              "    </tr>\n",
              "    <tr>\n",
              "      <th>25%</th>\n",
              "      <td>0.000000</td>\n",
              "      <td>0.000000</td>\n",
              "      <td>0.285714</td>\n",
              "      <td>0.300000</td>\n",
              "      <td>0.250000</td>\n",
              "      <td>0.291667</td>\n",
              "    </tr>\n",
              "    <tr>\n",
              "      <th>50%</th>\n",
              "      <td>0.500000</td>\n",
              "      <td>0.295858</td>\n",
              "      <td>0.500000</td>\n",
              "      <td>0.508333</td>\n",
              "      <td>0.625000</td>\n",
              "      <td>0.500000</td>\n",
              "    </tr>\n",
              "    <tr>\n",
              "      <th>75%</th>\n",
              "      <td>1.000000</td>\n",
              "      <td>0.591716</td>\n",
              "      <td>0.714286</td>\n",
              "      <td>0.716667</td>\n",
              "      <td>1.000000</td>\n",
              "      <td>0.708333</td>\n",
              "    </tr>\n",
              "    <tr>\n",
              "      <th>max</th>\n",
              "      <td>1.000000</td>\n",
              "      <td>1.000000</td>\n",
              "      <td>1.000000</td>\n",
              "      <td>1.000000</td>\n",
              "      <td>1.000000</td>\n",
              "      <td>1.000000</td>\n",
              "    </tr>\n",
              "  </tbody>\n",
              "</table>\n",
              "</div>\n",
              "      <button class=\"colab-df-convert\" onclick=\"convertToInteractive('df-01007ca2-1b17-4f59-9938-a4bd8b31bb92')\"\n",
              "              title=\"Convert this dataframe to an interactive table.\"\n",
              "              style=\"display:none;\">\n",
              "        \n",
              "  <svg xmlns=\"http://www.w3.org/2000/svg\" height=\"24px\"viewBox=\"0 0 24 24\"\n",
              "       width=\"24px\">\n",
              "    <path d=\"M0 0h24v24H0V0z\" fill=\"none\"/>\n",
              "    <path d=\"M18.56 5.44l.94 2.06.94-2.06 2.06-.94-2.06-.94-.94-2.06-.94 2.06-2.06.94zm-11 1L8.5 8.5l.94-2.06 2.06-.94-2.06-.94L8.5 2.5l-.94 2.06-2.06.94zm10 10l.94 2.06.94-2.06 2.06-.94-2.06-.94-.94-2.06-.94 2.06-2.06.94z\"/><path d=\"M17.41 7.96l-1.37-1.37c-.4-.4-.92-.59-1.43-.59-.52 0-1.04.2-1.43.59L10.3 9.45l-7.72 7.72c-.78.78-.78 2.05 0 2.83L4 21.41c.39.39.9.59 1.41.59.51 0 1.02-.2 1.41-.59l7.78-7.78 2.81-2.81c.8-.78.8-2.07 0-2.86zM5.41 20L4 18.59l7.72-7.72 1.47 1.35L5.41 20z\"/>\n",
              "  </svg>\n",
              "      </button>\n",
              "      \n",
              "  <style>\n",
              "    .colab-df-container {\n",
              "      display:flex;\n",
              "      flex-wrap:wrap;\n",
              "      gap: 12px;\n",
              "    }\n",
              "\n",
              "    .colab-df-convert {\n",
              "      background-color: #E8F0FE;\n",
              "      border: none;\n",
              "      border-radius: 50%;\n",
              "      cursor: pointer;\n",
              "      display: none;\n",
              "      fill: #1967D2;\n",
              "      height: 32px;\n",
              "      padding: 0 0 0 0;\n",
              "      width: 32px;\n",
              "    }\n",
              "\n",
              "    .colab-df-convert:hover {\n",
              "      background-color: #E2EBFA;\n",
              "      box-shadow: 0px 1px 2px rgba(60, 64, 67, 0.3), 0px 1px 3px 1px rgba(60, 64, 67, 0.15);\n",
              "      fill: #174EA6;\n",
              "    }\n",
              "\n",
              "    [theme=dark] .colab-df-convert {\n",
              "      background-color: #3B4455;\n",
              "      fill: #D2E3FC;\n",
              "    }\n",
              "\n",
              "    [theme=dark] .colab-df-convert:hover {\n",
              "      background-color: #434B5C;\n",
              "      box-shadow: 0px 1px 3px 1px rgba(0, 0, 0, 0.15);\n",
              "      filter: drop-shadow(0px 1px 2px rgba(0, 0, 0, 0.3));\n",
              "      fill: #FFFFFF;\n",
              "    }\n",
              "  </style>\n",
              "\n",
              "      <script>\n",
              "        const buttonEl =\n",
              "          document.querySelector('#df-01007ca2-1b17-4f59-9938-a4bd8b31bb92 button.colab-df-convert');\n",
              "        buttonEl.style.display =\n",
              "          google.colab.kernel.accessAllowed ? 'block' : 'none';\n",
              "\n",
              "        async function convertToInteractive(key) {\n",
              "          const element = document.querySelector('#df-01007ca2-1b17-4f59-9938-a4bd8b31bb92');\n",
              "          const dataTable =\n",
              "            await google.colab.kernel.invokeFunction('convertToInteractive',\n",
              "                                                     [key], {});\n",
              "          if (!dataTable) return;\n",
              "\n",
              "          const docLinkHtml = 'Like what you see? Visit the ' +\n",
              "            '<a target=\"_blank\" href=https://colab.research.google.com/notebooks/data_table.ipynb>data table notebook</a>'\n",
              "            + ' to learn more about interactive tables.';\n",
              "          element.innerHTML = '';\n",
              "          dataTable['output_type'] = 'display_data';\n",
              "          await google.colab.output.renderOutput(dataTable, element);\n",
              "          const docLink = document.createElement('div');\n",
              "          docLink.innerHTML = docLinkHtml;\n",
              "          element.appendChild(docLink);\n",
              "        }\n",
              "      </script>\n",
              "    </div>\n",
              "  </div>\n",
              "  "
            ]
          },
          "metadata": {},
          "execution_count": 16
        }
      ]
    },
    {
      "cell_type": "code",
      "source": [
        "X_test = pd.DataFrame(X_test, columns=[cols]) #Convert numpy array to dataframe"
      ],
      "metadata": {
        "id": "MTWTRFweLwY3"
      },
      "execution_count": null,
      "outputs": []
    },
    {
      "cell_type": "code",
      "source": [
        "df2_y.head()"
      ],
      "metadata": {
        "colab": {
          "base_uri": "https://localhost:8080/",
          "height": 206
        },
        "id": "Rdfvwn_fLGJC",
        "outputId": "eba73b2a-22a5-4944-c26e-4a2fecd4a20e"
      },
      "execution_count": null,
      "outputs": [
        {
          "output_type": "execute_result",
          "data": {
            "text/plain": [
              "    etch_rate  etch_uniformity  oxide_selectivity  photoresist_selectivity\n",
              "43       4643              7.3               6.93                     2.28\n",
              "32       4439              2.9              15.15                     3.71\n",
              "38       5139              4.7               6.61                     2.99\n",
              "33       4975              1.2               7.95                     2.42\n",
              "11       3396             15.1               4.99                     2.09"
            ],
            "text/html": [
              "\n",
              "  <div id=\"df-37fde9e6-ff52-47c0-af84-4f5ee5d80932\">\n",
              "    <div class=\"colab-df-container\">\n",
              "      <div>\n",
              "<style scoped>\n",
              "    .dataframe tbody tr th:only-of-type {\n",
              "        vertical-align: middle;\n",
              "    }\n",
              "\n",
              "    .dataframe tbody tr th {\n",
              "        vertical-align: top;\n",
              "    }\n",
              "\n",
              "    .dataframe thead th {\n",
              "        text-align: right;\n",
              "    }\n",
              "</style>\n",
              "<table border=\"1\" class=\"dataframe\">\n",
              "  <thead>\n",
              "    <tr style=\"text-align: right;\">\n",
              "      <th></th>\n",
              "      <th>etch_rate</th>\n",
              "      <th>etch_uniformity</th>\n",
              "      <th>oxide_selectivity</th>\n",
              "      <th>photoresist_selectivity</th>\n",
              "    </tr>\n",
              "  </thead>\n",
              "  <tbody>\n",
              "    <tr>\n",
              "      <th>43</th>\n",
              "      <td>4643</td>\n",
              "      <td>7.3</td>\n",
              "      <td>6.93</td>\n",
              "      <td>2.28</td>\n",
              "    </tr>\n",
              "    <tr>\n",
              "      <th>32</th>\n",
              "      <td>4439</td>\n",
              "      <td>2.9</td>\n",
              "      <td>15.15</td>\n",
              "      <td>3.71</td>\n",
              "    </tr>\n",
              "    <tr>\n",
              "      <th>38</th>\n",
              "      <td>5139</td>\n",
              "      <td>4.7</td>\n",
              "      <td>6.61</td>\n",
              "      <td>2.99</td>\n",
              "    </tr>\n",
              "    <tr>\n",
              "      <th>33</th>\n",
              "      <td>4975</td>\n",
              "      <td>1.2</td>\n",
              "      <td>7.95</td>\n",
              "      <td>2.42</td>\n",
              "    </tr>\n",
              "    <tr>\n",
              "      <th>11</th>\n",
              "      <td>3396</td>\n",
              "      <td>15.1</td>\n",
              "      <td>4.99</td>\n",
              "      <td>2.09</td>\n",
              "    </tr>\n",
              "  </tbody>\n",
              "</table>\n",
              "</div>\n",
              "      <button class=\"colab-df-convert\" onclick=\"convertToInteractive('df-37fde9e6-ff52-47c0-af84-4f5ee5d80932')\"\n",
              "              title=\"Convert this dataframe to an interactive table.\"\n",
              "              style=\"display:none;\">\n",
              "        \n",
              "  <svg xmlns=\"http://www.w3.org/2000/svg\" height=\"24px\"viewBox=\"0 0 24 24\"\n",
              "       width=\"24px\">\n",
              "    <path d=\"M0 0h24v24H0V0z\" fill=\"none\"/>\n",
              "    <path d=\"M18.56 5.44l.94 2.06.94-2.06 2.06-.94-2.06-.94-.94-2.06-.94 2.06-2.06.94zm-11 1L8.5 8.5l.94-2.06 2.06-.94-2.06-.94L8.5 2.5l-.94 2.06-2.06.94zm10 10l.94 2.06.94-2.06 2.06-.94-2.06-.94-.94-2.06-.94 2.06-2.06.94z\"/><path d=\"M17.41 7.96l-1.37-1.37c-.4-.4-.92-.59-1.43-.59-.52 0-1.04.2-1.43.59L10.3 9.45l-7.72 7.72c-.78.78-.78 2.05 0 2.83L4 21.41c.39.39.9.59 1.41.59.51 0 1.02-.2 1.41-.59l7.78-7.78 2.81-2.81c.8-.78.8-2.07 0-2.86zM5.41 20L4 18.59l7.72-7.72 1.47 1.35L5.41 20z\"/>\n",
              "  </svg>\n",
              "      </button>\n",
              "      \n",
              "  <style>\n",
              "    .colab-df-container {\n",
              "      display:flex;\n",
              "      flex-wrap:wrap;\n",
              "      gap: 12px;\n",
              "    }\n",
              "\n",
              "    .colab-df-convert {\n",
              "      background-color: #E8F0FE;\n",
              "      border: none;\n",
              "      border-radius: 50%;\n",
              "      cursor: pointer;\n",
              "      display: none;\n",
              "      fill: #1967D2;\n",
              "      height: 32px;\n",
              "      padding: 0 0 0 0;\n",
              "      width: 32px;\n",
              "    }\n",
              "\n",
              "    .colab-df-convert:hover {\n",
              "      background-color: #E2EBFA;\n",
              "      box-shadow: 0px 1px 2px rgba(60, 64, 67, 0.3), 0px 1px 3px 1px rgba(60, 64, 67, 0.15);\n",
              "      fill: #174EA6;\n",
              "    }\n",
              "\n",
              "    [theme=dark] .colab-df-convert {\n",
              "      background-color: #3B4455;\n",
              "      fill: #D2E3FC;\n",
              "    }\n",
              "\n",
              "    [theme=dark] .colab-df-convert:hover {\n",
              "      background-color: #434B5C;\n",
              "      box-shadow: 0px 1px 3px 1px rgba(0, 0, 0, 0.15);\n",
              "      filter: drop-shadow(0px 1px 2px rgba(0, 0, 0, 0.3));\n",
              "      fill: #FFFFFF;\n",
              "    }\n",
              "  </style>\n",
              "\n",
              "      <script>\n",
              "        const buttonEl =\n",
              "          document.querySelector('#df-37fde9e6-ff52-47c0-af84-4f5ee5d80932 button.colab-df-convert');\n",
              "        buttonEl.style.display =\n",
              "          google.colab.kernel.accessAllowed ? 'block' : 'none';\n",
              "\n",
              "        async function convertToInteractive(key) {\n",
              "          const element = document.querySelector('#df-37fde9e6-ff52-47c0-af84-4f5ee5d80932');\n",
              "          const dataTable =\n",
              "            await google.colab.kernel.invokeFunction('convertToInteractive',\n",
              "                                                     [key], {});\n",
              "          if (!dataTable) return;\n",
              "\n",
              "          const docLinkHtml = 'Like what you see? Visit the ' +\n",
              "            '<a target=\"_blank\" href=https://colab.research.google.com/notebooks/data_table.ipynb>data table notebook</a>'\n",
              "            + ' to learn more about interactive tables.';\n",
              "          element.innerHTML = '';\n",
              "          dataTable['output_type'] = 'display_data';\n",
              "          await google.colab.output.renderOutput(dataTable, element);\n",
              "          const docLink = document.createElement('div');\n",
              "          docLink.innerHTML = docLinkHtml;\n",
              "          element.appendChild(docLink);\n",
              "        }\n",
              "      </script>\n",
              "    </div>\n",
              "  </div>\n",
              "  "
            ]
          },
          "metadata": {},
          "execution_count": 18
        }
      ]
    },
    {
      "cell_type": "markdown",
      "source": [
        "One challenge of solving SVM for regression problem with int and float values for target variables (not predictor variables) is that SVM classifier cannot work with such values. So, we need to encode these values to convert them to only numeric values. Then, train SVM on it."
      ],
      "metadata": {
        "id": "NZ70LotaY9Z4"
      }
    },
    {
      "cell_type": "code",
      "source": [
        "# Convert train target values to numeric using encoder\n",
        "trainingScores = np.zeros((42,4)) #zero numpy array with shape of 42*4 \n",
        "encoded_y= np.zeros((42,4))\n",
        "lab_enc = preprocessing.LabelEncoder()\n",
        "for i in range(0,4):\n",
        "  trainingScores[:,i] = np.array(df2_y.iloc[:,i])\n",
        "  encoded_y[:,i] = lab_enc.fit_transform(trainingScores[:,i])\n",
        "print(encoded_y)"
      ],
      "metadata": {
        "colab": {
          "base_uri": "https://localhost:8080/"
        },
        "id": "-KNH2IhWUTk_",
        "outputId": "7fbf8d87-7f4c-4624-8f29-9a57206a947b"
      },
      "execution_count": null,
      "outputs": [
        {
          "output_type": "stream",
          "name": "stdout",
          "text": [
            "[[29. 14. 26. 21.]\n",
            " [24.  6. 40. 31.]\n",
            " [39.  9. 23. 30.]\n",
            " [36.  2. 32. 25.]\n",
            " [ 5. 27.  4. 14.]\n",
            " [35. 34.  6.  5.]\n",
            " [ 3. 35.  0.  1.]\n",
            " [22. 25. 30. 11.]\n",
            " [ 2. 28.  9.  8.]\n",
            " [12.  5. 37. 29.]\n",
            " [38. 23. 10. 17.]\n",
            " [ 1. 24.  1.  1.]\n",
            " [ 9. 27. 14. 15.]\n",
            " [33.  4. 27. 20.]\n",
            " [32.  3. 20.  5.]\n",
            " [17. 30. 24. 16.]\n",
            " [21. 36. 15.  4.]\n",
            " [18. 18. 11.  6.]\n",
            " [10.  0. 25. 13.]\n",
            " [26. 32.  7. 10.]\n",
            " [41. 13. 21.  9.]\n",
            " [ 4. 31.  8. 12.]\n",
            " [34. 15. 31. 19.]\n",
            " [16. 12. 12. 22.]\n",
            " [ 0. 37.  2.  2.]\n",
            " [ 6. 11. 22. 21.]\n",
            " [11. 33. 18. 18.]\n",
            " [ 8. 22. 13. 10.]\n",
            " [27. 19. 29. 21.]\n",
            " [19. 29.  3.  3.]\n",
            " [28. 16. 33. 24.]\n",
            " [ 7. 17. 19.  0.]\n",
            " [37.  7. 35. 23.]\n",
            " [25. 20. 38. 28.]\n",
            " [14.  4. 39. 32.]\n",
            " [30. 10. 27. 20.]\n",
            " [15. 21. 28. 11.]\n",
            " [13.  8. 16.  7.]\n",
            " [20. 38.  5. 26.]\n",
            " [31.  3. 36. 27.]\n",
            " [23. 26. 17.  9.]\n",
            " [40.  1. 34. 12.]]\n"
          ]
        }
      ]
    },
    {
      "cell_type": "code",
      "source": [
        "type(encoded_y)"
      ],
      "metadata": {
        "colab": {
          "base_uri": "https://localhost:8080/"
        },
        "id": "UWFqJnkrinD2",
        "outputId": "af5af7c5-1ed5-4bb2-94f8-4dc0119dfa25"
      },
      "execution_count": null,
      "outputs": [
        {
          "output_type": "execute_result",
          "data": {
            "text/plain": [
              "numpy.ndarray"
            ]
          },
          "metadata": {},
          "execution_count": 20
        }
      ]
    },
    {
      "cell_type": "code",
      "source": [
        "encoded_y.dtype # check the data type of an array"
      ],
      "metadata": {
        "colab": {
          "base_uri": "https://localhost:8080/"
        },
        "id": "eT8QXIHzV1ny",
        "outputId": "a83b8331-004d-4f52-d6d6-260eb903dd3e"
      },
      "execution_count": null,
      "outputs": [
        {
          "output_type": "execute_result",
          "data": {
            "text/plain": [
              "dtype('float64')"
            ]
          },
          "metadata": {},
          "execution_count": 21
        }
      ]
    },
    {
      "cell_type": "code",
      "source": [
        "#Convert train target array to dataframe \n",
        "encoded_df = pd.DataFrame(encoded_y)\n",
        "type(encoded_df)"
      ],
      "metadata": {
        "colab": {
          "base_uri": "https://localhost:8080/"
        },
        "id": "l2j60QNKWvV9",
        "outputId": "c7023803-8655-4283-be67-4fe501c5dfce"
      },
      "execution_count": null,
      "outputs": [
        {
          "output_type": "execute_result",
          "data": {
            "text/plain": [
              "pandas.core.frame.DataFrame"
            ]
          },
          "metadata": {},
          "execution_count": 22
        }
      ]
    },
    {
      "cell_type": "code",
      "source": [
        "# Convert test target values to numeric using encoder\n",
        "trainingScores1 = np.zeros((11,4)) #zero numpy array with shape of 42*4 \n",
        "encoded_y_test= np.zeros((11,4))\n",
        "lab_enc = preprocessing.LabelEncoder()\n",
        "for i in range(0,4):\n",
        "  trainingScores1[:,i] = np.array(df2_y_test.iloc[:,i])\n",
        "  encoded_y_test[:,i] = lab_enc.fit_transform(trainingScores1[:,i])\n",
        "print(encoded_y_test)"
      ],
      "metadata": {
        "colab": {
          "base_uri": "https://localhost:8080/"
        },
        "id": "mti3xEXcfk-x",
        "outputId": "f945fd54-c27b-4e5b-a211-6d773501fead"
      },
      "execution_count": null,
      "outputs": [
        {
          "output_type": "stream",
          "name": "stdout",
          "text": [
            "[[ 2.  8.  6.  2.]\n",
            " [ 7.  6.  2.  6.]\n",
            " [10.  0.  9.  9.]\n",
            " [ 0.  7.  1.  5.]\n",
            " [ 9.  9.  3.  0.]\n",
            " [ 5. 10.  0.  1.]\n",
            " [ 1.  2.  8. 10.]\n",
            " [ 8.  4. 10.  8.]\n",
            " [ 4.  3.  5.  3.]\n",
            " [ 6.  1.  7.  7.]\n",
            " [ 3.  5.  4.  4.]]\n"
          ]
        }
      ]
    },
    {
      "cell_type": "code",
      "source": [
        "#Convert test target values to dataframe\n",
        "encoded_df1 = pd.DataFrame(encoded_y_test)\n",
        "type(encoded_df1)"
      ],
      "metadata": {
        "colab": {
          "base_uri": "https://localhost:8080/"
        },
        "id": "9Bxm5bl-gINp",
        "outputId": "50fb9ef4-993a-440a-cb9c-97a09844758b"
      },
      "execution_count": null,
      "outputs": [
        {
          "output_type": "execute_result",
          "data": {
            "text/plain": [
              "pandas.core.frame.DataFrame"
            ]
          },
          "metadata": {},
          "execution_count": 24
        }
      ]
    },
    {
      "cell_type": "markdown",
      "source": [
        "**Run SVM with default hyperparameters**\n",
        "\n",
        "We have support vector classifiers. I will use two of them:'linear' and 'RBF' classifiers\n",
        "\n",
        "The following is a default hyperparameter SVM."
      ],
      "metadata": {
        "id": "wMSBT5pogqnk"
      }
    },
    {
      "cell_type": "code",
      "source": [
        "# import SVC classifier\n",
        "from sklearn import svm\n",
        "\n",
        "# import metrics to compute accuracy\n",
        "from sklearn.metrics import accuracy_score\n",
        "\n",
        "\n",
        "#Simply fit the values of X and Y\n",
        "for i in range(0,4):\n",
        "  # instantiate classifier with default hyperparameters\n",
        "  clf = svm.SVC()\n",
        "  clf.fit(df2_x, encoded_df.iloc[:,i])\n",
        "\n",
        "\n",
        "# make predictions on test set\n",
        "  y_pred=clf.predict(df2_x_test)\n",
        "\n",
        "\n",
        "# compute and print accuracy score\n",
        "  print('Model accuracy score with default hyperparameters: {0:0.4f}'. format(accuracy_score(encoded_df1.iloc[:,i], y_pred)))"
      ],
      "metadata": {
        "colab": {
          "base_uri": "https://localhost:8080/"
        },
        "id": "8VHEulqOdrSC",
        "outputId": "3a023b39-562e-4707-b681-cd6c881d882f"
      },
      "execution_count": null,
      "outputs": [
        {
          "output_type": "stream",
          "name": "stdout",
          "text": [
            "Model accuracy score with default hyperparameters: 0.0000\n",
            "Model accuracy score with default hyperparameters: 0.0909\n",
            "Model accuracy score with default hyperparameters: 0.0000\n",
            "Model accuracy score with default hyperparameters: 0.0000\n"
          ]
        }
      ]
    },
    {
      "cell_type": "markdown",
      "source": [
        "As we see, the accuracy scores with SVM default hyperparameters are extremely low. So, we need to tune hyperparameters."
      ],
      "metadata": {
        "id": "3sU46rFiguIP"
      }
    },
    {
      "cell_type": "markdown",
      "source": [
        "Now determining parameters for the SVM model. The **GridSearchCV** utility from sklearn is perfect here."
      ],
      "metadata": {
        "id": "cBDs8EWrlgE2"
      }
    },
    {
      "cell_type": "code",
      "source": [
        "from sklearn.model_selection import cross_val_score, GridSearchCV\n",
        "from sklearn.svm import SVR\n",
        "\n",
        "gsc = GridSearchCV(\n",
        "    estimator=SVR(kernel='rbf'),\n",
        "    param_grid={\n",
        "        'C': range(1, 100),\n",
        "        'epsilon': (0.06, 0.08, 0.1),\n",
        "    },\n",
        "    cv=5\n",
        ")\n",
        "for i in range(0,i):\n",
        "  grid_result = gsc.fit(df2_x, encoded_df.iloc[:,i])\n",
        "\n",
        "print(\"Best: %f using %s\" % (grid_result.best_score_, grid_result.best_params_))"
      ],
      "metadata": {
        "id": "RWIMLjY0mmqb",
        "colab": {
          "base_uri": "https://localhost:8080/"
        },
        "outputId": "818982ff-7d84-4f73-df27-64f57ef53258"
      },
      "execution_count": null,
      "outputs": [
        {
          "output_type": "stream",
          "name": "stdout",
          "text": [
            "Best: 0.583974 using {'C': 99, 'epsilon': 0.07}\n"
          ]
        }
      ]
    },
    {
      "cell_type": "markdown",
      "source": [
        "Plot the relation between the SVM parameters"
      ],
      "metadata": {
        "id": "7e1L_OFs_nqt"
      }
    },
    {
      "cell_type": "code",
      "source": [
        "import matplotlib.pyplot as plt\n",
        "from mpl_toolkits.mplot3d import Axes3D\n",
        "\n",
        "fig = plt.figure()\n",
        "ax = fig.add_subplot(111, projection='3d')\n",
        "\n",
        "ax.scatter([row['C'] for row in grid_result.cv_results_['params']],\n",
        "           [row['epsilon'] for row in grid_result.cv_results_['params']],\n",
        "           grid_result.cv_results_['mean_test_score'],\n",
        "           c='b', marker='^')\n",
        "\n",
        "ax.set_xlabel('C')\n",
        "ax.set_ylabel('Epsilon')\n",
        "ax.set_zlabel('Score')"
      ],
      "metadata": {
        "colab": {
          "base_uri": "https://localhost:8080/",
          "height": 265
        },
        "id": "NqdsX7_ek_7B",
        "outputId": "df1866a6-453b-407d-cc25-9a9b4bb27fa3"
      },
      "execution_count": null,
      "outputs": [
        {
          "output_type": "execute_result",
          "data": {
            "text/plain": [
              "Text(0.5, 0, 'Score')"
            ]
          },
          "metadata": {},
          "execution_count": 34
        },
        {
          "output_type": "display_data",
          "data": {
            "text/plain": [
              "<Figure size 432x288 with 1 Axes>"
            ],
            "image/png": "[encoded data removed]"
          },
          "metadata": {}
        }
      ]
    }
  ]
}